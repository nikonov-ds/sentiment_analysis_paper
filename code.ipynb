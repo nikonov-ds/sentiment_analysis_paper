{
 "cells": [
  {
   "cell_type": "markdown",
   "id": "915f1aea-642b-42c4-9192-3297d246915c",
   "metadata": {},
   "source": [
    "# INITIAL INVESTIGATION OF THE SENTIMENT ANALYSIS SIMILARITIES AND CONSISTENCIES IN ENGLISH AND CHINESE\n",
    "Vladimir Nikonov"
   ]
  },
  {
   "cell_type": "markdown",
   "id": "6bd4c04c-82ac-472c-b797-fd7c0d4162df",
   "metadata": {},
   "source": [
    "## 1. Importing the Data, Transformations, Preprocessing, Exploratory Data Analysis"
   ]
  },
  {
   "cell_type": "code",
   "execution_count": 1,
   "id": "38e9559d-8ffd-4e57-8ce6-a76a3e14a4f5",
   "metadata": {
    "tags": []
   },
   "outputs": [],
   "source": [
    "# Importing libraries.\n",
    "import numpy as np\n",
    "import pandas as pd\n",
    "import matplotlib.pyplot as plt\n",
    "\n",
    "from sklearn.model_selection import train_test_split\n",
    "from sklearn.metrics import confusion_matrix, ConfusionMatrixDisplay, f1_score, precision_score, recall_score\n",
    "\n",
    "import operator                               # for getting category having highest score\n",
    "\n",
    "from deep_translator import GoogleTranslator  # library chosen for translating Chinese text into English\n",
    "\n",
    "from spacy.tokens import DocBin               # spacy class for Doc binary serialization\n",
    "import spacy"
   ]
  },
  {
   "cell_type": "markdown",
   "id": "a4e4810c-59ea-410f-a829-e341bf1a62f3",
   "metadata": {},
   "source": [
    "### 1.1 Importing the Dataset"
   ]
  },
  {
   "cell_type": "code",
   "execution_count": 2,
   "id": "fade7d35-5b1a-43e3-8d06-0882c00f2e3c",
   "metadata": {},
   "outputs": [
    {
     "data": {
      "text/html": [
       "<div>\n",
       "<style scoped>\n",
       "    .dataframe tbody tr th:only-of-type {\n",
       "        vertical-align: middle;\n",
       "    }\n",
       "\n",
       "    .dataframe tbody tr th {\n",
       "        vertical-align: top;\n",
       "    }\n",
       "\n",
       "    .dataframe thead th {\n",
       "        text-align: right;\n",
       "    }\n",
       "</style>\n",
       "<table border=\"1\" class=\"dataframe\">\n",
       "  <thead>\n",
       "    <tr style=\"text-align: right;\">\n",
       "      <th></th>\n",
       "      <th>序号</th>\n",
       "      <th>类别</th>\n",
       "      <th>话题</th>\n",
       "      <th>评论</th>\n",
       "      <th>情感属性</th>\n",
       "    </tr>\n",
       "  </thead>\n",
       "  <tbody>\n",
       "    <tr>\n",
       "      <th>0</th>\n",
       "      <td>13-000001-0</td>\n",
       "      <td>游戏</td>\n",
       "      <td>如何评价OP为原神充值30万，想当游戏策划被拒之门外[doge]</td>\n",
       "      <td>在医院花了100w为什么不让我下一场手术主刀</td>\n",
       "      <td>积极</td>\n",
       "    </tr>\n",
       "    <tr>\n",
       "      <th>1</th>\n",
       "      <td>13-000001-1</td>\n",
       "      <td>游戏</td>\n",
       "      <td>如何评价OP为原神充值30万，想当游戏策划被拒之门外[doge]</td>\n",
       "      <td>请问你算什么东西？我花了几十万和十几二十年的青春读书，你弄三十万玩游戏就想和我一起工作，你算那根葱</td>\n",
       "      <td>消极</td>\n",
       "    </tr>\n",
       "    <tr>\n",
       "      <th>2</th>\n",
       "      <td>13-000001-2</td>\n",
       "      <td>游戏</td>\n",
       "      <td>如何评价OP为原神充值31万，想当游戏策划被拒之门外[doge]</td>\n",
       "      <td>游戏厂商程序猿一年工资也比30w多太多了吧，为了30w就把啥也不会只有热爱的玩家招进来，那这...</td>\n",
       "      <td>积极</td>\n",
       "    </tr>\n",
       "    <tr>\n",
       "      <th>3</th>\n",
       "      <td>13-000001-3</td>\n",
       "      <td>游戏</td>\n",
       "      <td>如何评价OP为原神充值32万，想当游戏策划被拒之门外[doge]</td>\n",
       "      <td>简单来说充钱并不代表是人上人</td>\n",
       "      <td>积极</td>\n",
       "    </tr>\n",
       "    <tr>\n",
       "      <th>4</th>\n",
       "      <td>13-000001-4</td>\n",
       "      <td>游戏</td>\n",
       "      <td>如何评价OP为原神充值33万，想当游戏策划被拒之门外[doge]</td>\n",
       "      <td>用的图都是老图，饵咸钩直了属于是[二哈]</td>\n",
       "      <td>消极</td>\n",
       "    </tr>\n",
       "  </tbody>\n",
       "</table>\n",
       "</div>"
      ],
      "text/plain": [
       "            序号  类别                                话题  \\\n",
       "0  13-000001-0  游戏  如何评价OP为原神充值30万，想当游戏策划被拒之门外[doge]   \n",
       "1  13-000001-1  游戏  如何评价OP为原神充值30万，想当游戏策划被拒之门外[doge]   \n",
       "2  13-000001-2  游戏  如何评价OP为原神充值31万，想当游戏策划被拒之门外[doge]   \n",
       "3  13-000001-3  游戏  如何评价OP为原神充值32万，想当游戏策划被拒之门外[doge]   \n",
       "4  13-000001-4  游戏  如何评价OP为原神充值33万，想当游戏策划被拒之门外[doge]   \n",
       "\n",
       "                                                  评论 情感属性  \n",
       "0                             在医院花了100w为什么不让我下一场手术主刀   积极  \n",
       "1  请问你算什么东西？我花了几十万和十几二十年的青春读书，你弄三十万玩游戏就想和我一起工作，你算那根葱   消极  \n",
       "2  游戏厂商程序猿一年工资也比30w多太多了吧，为了30w就把啥也不会只有热爱的玩家招进来，那这...   积极  \n",
       "3                                     简单来说充钱并不代表是人上人   积极  \n",
       "4                               用的图都是老图，饵咸钩直了属于是[二哈]   消极  "
      ]
     },
     "execution_count": 2,
     "metadata": {},
     "output_type": "execute_result"
    }
   ],
   "source": [
    "# Reading data.\n",
    "domains = [\"Emotion\", \"Celebrities\", \"Finance\", \"Law\", \"Sports\", \n",
    "              \"Cinema\", \"Shows\", \"Campus\", \"Tourism\", \"TV_Dramas\", \n",
    "              \"Technology\", \"Health\", \"Games\", \"Military\", \"Digital\", \n",
    "              \"Constellations\", \"Fitness\", \"Comedy\", \"Animation\", \n",
    "              \"International\", \"Covid-19\", \"Government\"]\n",
    "\n",
    "domain_len = len(domains)\n",
    "\n",
    "domain_range = range(domain_len)\n",
    "\n",
    "dfs = []\n",
    "\n",
    "for i in range(1, domain_len+1):\n",
    "    temp_df = pd.read_excel(\"data/\" + str(i) + \"-\" + domains[i-1] + \".xlsx\")\n",
    "    dfs.append(temp_df)\n",
    "\n",
    "\n",
    "# Checking data.\n",
    "dfs[12].head()"
   ]
  },
  {
   "cell_type": "markdown",
   "id": "88eb7f0b-2b3d-404f-9382-dc64ac30feae",
   "metadata": {},
   "source": [
    "### 1.2 Data Transformations"
   ]
  },
  {
   "cell_type": "code",
   "execution_count": 3,
   "id": "91f8ff27-bbfc-4391-8c5d-f7dcab2ebb55",
   "metadata": {},
   "outputs": [
    {
     "data": {
      "text/plain": [
       "Index(['No.', 'Domain', 'Topic', 'Comment', 'Label'], dtype='object')"
      ]
     },
     "execution_count": 3,
     "metadata": {},
     "output_type": "execute_result"
    }
   ],
   "source": [
    "# Renaming columns.\n",
    "for i in domain_range:\n",
    "    dfs[i].columns = [\"No.\", \"Domain\", \"Topic\", \"Comment\", \"Label\"]\n",
    "\n",
    "\n",
    "# Checking column names.\n",
    "dfs[13].columns"
   ]
  },
  {
   "cell_type": "code",
   "execution_count": 4,
   "id": "c974428a-0fe3-433f-a4de-a9505adb76e4",
   "metadata": {
    "tags": []
   },
   "outputs": [
    {
     "data": {
      "text/html": [
       "<div>\n",
       "<style scoped>\n",
       "    .dataframe tbody tr th:only-of-type {\n",
       "        vertical-align: middle;\n",
       "    }\n",
       "\n",
       "    .dataframe tbody tr th {\n",
       "        vertical-align: top;\n",
       "    }\n",
       "\n",
       "    .dataframe thead th {\n",
       "        text-align: right;\n",
       "    }\n",
       "</style>\n",
       "<table border=\"1\" class=\"dataframe\">\n",
       "  <thead>\n",
       "    <tr style=\"text-align: right;\">\n",
       "      <th></th>\n",
       "      <th>Comment</th>\n",
       "      <th>Label</th>\n",
       "    </tr>\n",
       "  </thead>\n",
       "  <tbody>\n",
       "    <tr>\n",
       "      <th>0</th>\n",
       "      <td>用不用的无所谓，支持的快充协议是pd就行</td>\n",
       "      <td>积极</td>\n",
       "    </tr>\n",
       "    <tr>\n",
       "      <th>1</th>\n",
       "      <td>这都不懂，库克只要留着这个，等🍎真的挤不出来那么多新功能，然后再用这个来做卖点，虽然我自己也...</td>\n",
       "      <td>消极</td>\n",
       "    </tr>\n",
       "    <tr>\n",
       "      <th>2</th>\n",
       "      <td>让电池更快老化，岂不是可以减少手机寿命，使新产品卖的更好</td>\n",
       "      <td>消极</td>\n",
       "    </tr>\n",
       "    <tr>\n",
       "      <th>3</th>\n",
       "      <td>库克咱猜不到的</td>\n",
       "      <td>中性</td>\n",
       "    </tr>\n",
       "    <tr>\n",
       "      <th>4</th>\n",
       "      <td>应该是想显示它的独特性吧</td>\n",
       "      <td>积极</td>\n",
       "    </tr>\n",
       "  </tbody>\n",
       "</table>\n",
       "</div>"
      ],
      "text/plain": [
       "                                             Comment Label\n",
       "0                               用不用的无所谓，支持的快充协议是pd就行    积极\n",
       "1  这都不懂，库克只要留着这个，等🍎真的挤不出来那么多新功能，然后再用这个来做卖点，虽然我自己也...    消极\n",
       "2                       让电池更快老化，岂不是可以减少手机寿命，使新产品卖的更好    消极\n",
       "3                                            库克咱猜不到的    中性\n",
       "4                                       应该是想显示它的独特性吧    积极"
      ]
     },
     "execution_count": 4,
     "metadata": {},
     "output_type": "execute_result"
    }
   ],
   "source": [
    "# Removing unnecessary columns No., Domain, Topic.\n",
    "for i in domain_range:\n",
    "    dfs[i] = dfs[i][[\"Comment\", \"Label\"]]\n",
    "\n",
    "\n",
    "# Checking random dataset.\n",
    "dfs[14].head()"
   ]
  },
  {
   "cell_type": "markdown",
   "id": "8f382c86-e4bb-4652-bef8-02bb17dad309",
   "metadata": {},
   "source": [
    "### 1.3 Data Cleaning and Exploratory Data Analysis"
   ]
  },
  {
   "cell_type": "code",
   "execution_count": 5,
   "id": "f42becc3-cbd4-431c-a760-232d526547ef",
   "metadata": {
    "tags": []
   },
   "outputs": [
    {
     "name": "stdout",
     "output_type": "stream",
     "text": [
      "1. Emotion\n",
      "<class 'pandas.core.frame.DataFrame'>\n",
      "RangeIndex: 11000 entries, 0 to 10999\n",
      "Data columns (total 2 columns):\n",
      " #   Column   Non-Null Count  Dtype \n",
      "---  ------   --------------  ----- \n",
      " 0   Comment  11000 non-null  object\n",
      " 1   Label    11000 non-null  object\n",
      "dtypes: object(2)\n",
      "memory usage: 172.0+ KB\n",
      "None\n",
      "\n",
      "2. Celebrities\n",
      "<class 'pandas.core.frame.DataFrame'>\n",
      "RangeIndex: 11000 entries, 0 to 10999\n",
      "Data columns (total 2 columns):\n",
      " #   Column   Non-Null Count  Dtype \n",
      "---  ------   --------------  ----- \n",
      " 0   Comment  11000 non-null  object\n",
      " 1   Label    11000 non-null  object\n",
      "dtypes: object(2)\n",
      "memory usage: 172.0+ KB\n",
      "None\n",
      "\n",
      "3. Finance\n",
      "<class 'pandas.core.frame.DataFrame'>\n",
      "RangeIndex: 11000 entries, 0 to 10999\n",
      "Data columns (total 2 columns):\n",
      " #   Column   Non-Null Count  Dtype \n",
      "---  ------   --------------  ----- \n",
      " 0   Comment  11000 non-null  object\n",
      " 1   Label    11000 non-null  object\n",
      "dtypes: object(2)\n",
      "memory usage: 172.0+ KB\n",
      "None\n",
      "\n",
      "4. Law\n",
      "<class 'pandas.core.frame.DataFrame'>\n",
      "RangeIndex: 11000 entries, 0 to 10999\n",
      "Data columns (total 2 columns):\n",
      " #   Column   Non-Null Count  Dtype \n",
      "---  ------   --------------  ----- \n",
      " 0   Comment  11000 non-null  object\n",
      " 1   Label    11000 non-null  object\n",
      "dtypes: object(2)\n",
      "memory usage: 172.0+ KB\n",
      "None\n",
      "\n",
      "5. Sports\n",
      "<class 'pandas.core.frame.DataFrame'>\n",
      "RangeIndex: 6880 entries, 0 to 6879\n",
      "Data columns (total 2 columns):\n",
      " #   Column   Non-Null Count  Dtype \n",
      "---  ------   --------------  ----- \n",
      " 0   Comment  6880 non-null   object\n",
      " 1   Label    6880 non-null   object\n",
      "dtypes: object(2)\n",
      "memory usage: 107.6+ KB\n",
      "None\n",
      "\n",
      "6. Cinema\n",
      "<class 'pandas.core.frame.DataFrame'>\n",
      "RangeIndex: 11000 entries, 0 to 10999\n",
      "Data columns (total 2 columns):\n",
      " #   Column   Non-Null Count  Dtype \n",
      "---  ------   --------------  ----- \n",
      " 0   Comment  11000 non-null  object\n",
      " 1   Label    11000 non-null  object\n",
      "dtypes: object(2)\n",
      "memory usage: 172.0+ KB\n",
      "None\n",
      "\n",
      "7. Shows\n",
      "<class 'pandas.core.frame.DataFrame'>\n",
      "RangeIndex: 11000 entries, 0 to 10999\n",
      "Data columns (total 2 columns):\n",
      " #   Column   Non-Null Count  Dtype \n",
      "---  ------   --------------  ----- \n",
      " 0   Comment  10999 non-null  object\n",
      " 1   Label    11000 non-null  object\n",
      "dtypes: object(2)\n",
      "memory usage: 172.0+ KB\n",
      "None\n",
      "\n",
      "8. Campus\n",
      "<class 'pandas.core.frame.DataFrame'>\n",
      "RangeIndex: 11000 entries, 0 to 10999\n",
      "Data columns (total 2 columns):\n",
      " #   Column   Non-Null Count  Dtype \n",
      "---  ------   --------------  ----- \n",
      " 0   Comment  11000 non-null  object\n",
      " 1   Label    11000 non-null  object\n",
      "dtypes: object(2)\n",
      "memory usage: 172.0+ KB\n",
      "None\n",
      "\n",
      "9. Tourism\n",
      "<class 'pandas.core.frame.DataFrame'>\n",
      "RangeIndex: 12000 entries, 0 to 11999\n",
      "Data columns (total 2 columns):\n",
      " #   Column   Non-Null Count  Dtype \n",
      "---  ------   --------------  ----- \n",
      " 0   Comment  12000 non-null  object\n",
      " 1   Label    12000 non-null  object\n",
      "dtypes: object(2)\n",
      "memory usage: 187.6+ KB\n",
      "None\n",
      "\n",
      "10. TV_Dramas\n",
      "<class 'pandas.core.frame.DataFrame'>\n",
      "RangeIndex: 10820 entries, 0 to 10819\n",
      "Data columns (total 2 columns):\n",
      " #   Column   Non-Null Count  Dtype \n",
      "---  ------   --------------  ----- \n",
      " 0   Comment  10820 non-null  object\n",
      " 1   Label    10820 non-null  object\n",
      "dtypes: object(2)\n",
      "memory usage: 169.2+ KB\n",
      "None\n",
      "\n",
      "11. Technology\n",
      "<class 'pandas.core.frame.DataFrame'>\n",
      "RangeIndex: 4030 entries, 0 to 4029\n",
      "Data columns (total 2 columns):\n",
      " #   Column   Non-Null Count  Dtype \n",
      "---  ------   --------------  ----- \n",
      " 0   Comment  4030 non-null   object\n",
      " 1   Label    4030 non-null   object\n",
      "dtypes: object(2)\n",
      "memory usage: 63.1+ KB\n",
      "None\n",
      "\n",
      "12. Health\n",
      "<class 'pandas.core.frame.DataFrame'>\n",
      "RangeIndex: 6500 entries, 0 to 6499\n",
      "Data columns (total 2 columns):\n",
      " #   Column   Non-Null Count  Dtype \n",
      "---  ------   --------------  ----- \n",
      " 0   Comment  6500 non-null   object\n",
      " 1   Label    6500 non-null   object\n",
      "dtypes: object(2)\n",
      "memory usage: 101.7+ KB\n",
      "None\n",
      "\n",
      "13. Games\n",
      "<class 'pandas.core.frame.DataFrame'>\n",
      "RangeIndex: 11000 entries, 0 to 10999\n",
      "Data columns (total 2 columns):\n",
      " #   Column   Non-Null Count  Dtype \n",
      "---  ------   --------------  ----- \n",
      " 0   Comment  11000 non-null  object\n",
      " 1   Label    11000 non-null  object\n",
      "dtypes: object(2)\n",
      "memory usage: 172.0+ KB\n",
      "None\n",
      "\n",
      "14. Military\n",
      "<class 'pandas.core.frame.DataFrame'>\n",
      "RangeIndex: 11000 entries, 0 to 10999\n",
      "Data columns (total 2 columns):\n",
      " #   Column   Non-Null Count  Dtype \n",
      "---  ------   --------------  ----- \n",
      " 0   Comment  11000 non-null  object\n",
      " 1   Label    11000 non-null  object\n",
      "dtypes: object(2)\n",
      "memory usage: 172.0+ KB\n",
      "None\n",
      "\n",
      "15. Digital\n",
      "<class 'pandas.core.frame.DataFrame'>\n",
      "RangeIndex: 11000 entries, 0 to 10999\n",
      "Data columns (total 2 columns):\n",
      " #   Column   Non-Null Count  Dtype \n",
      "---  ------   --------------  ----- \n",
      " 0   Comment  11000 non-null  object\n",
      " 1   Label    11000 non-null  object\n",
      "dtypes: object(2)\n",
      "memory usage: 172.0+ KB\n",
      "None\n",
      "\n",
      "16. Constellations\n",
      "<class 'pandas.core.frame.DataFrame'>\n",
      "RangeIndex: 11100 entries, 0 to 11099\n",
      "Data columns (total 2 columns):\n",
      " #   Column   Non-Null Count  Dtype \n",
      "---  ------   --------------  ----- \n",
      " 0   Comment  11100 non-null  object\n",
      " 1   Label    11100 non-null  object\n",
      "dtypes: object(2)\n",
      "memory usage: 173.6+ KB\n",
      "None\n",
      "\n",
      "17. Fitness\n",
      "<class 'pandas.core.frame.DataFrame'>\n",
      "RangeIndex: 8600 entries, 0 to 8599\n",
      "Data columns (total 2 columns):\n",
      " #   Column   Non-Null Count  Dtype \n",
      "---  ------   --------------  ----- \n",
      " 0   Comment  8600 non-null   object\n",
      " 1   Label    8600 non-null   object\n",
      "dtypes: object(2)\n",
      "memory usage: 134.5+ KB\n",
      "None\n",
      "\n",
      "18. Comedy\n",
      "<class 'pandas.core.frame.DataFrame'>\n",
      "RangeIndex: 11000 entries, 0 to 10999\n",
      "Data columns (total 2 columns):\n",
      " #   Column   Non-Null Count  Dtype \n",
      "---  ------   --------------  ----- \n",
      " 0   Comment  10995 non-null  object\n",
      " 1   Label    11000 non-null  object\n",
      "dtypes: object(2)\n",
      "memory usage: 172.0+ KB\n",
      "None\n",
      "\n",
      "19. Animation\n",
      "<class 'pandas.core.frame.DataFrame'>\n",
      "RangeIndex: 11000 entries, 0 to 10999\n",
      "Data columns (total 2 columns):\n",
      " #   Column   Non-Null Count  Dtype \n",
      "---  ------   --------------  ----- \n",
      " 0   Comment  10992 non-null  object\n",
      " 1   Label    11000 non-null  object\n",
      "dtypes: object(2)\n",
      "memory usage: 172.0+ KB\n",
      "None\n",
      "\n",
      "20. International\n",
      "<class 'pandas.core.frame.DataFrame'>\n",
      "RangeIndex: 8000 entries, 0 to 7999\n",
      "Data columns (total 2 columns):\n",
      " #   Column   Non-Null Count  Dtype \n",
      "---  ------   --------------  ----- \n",
      " 0   Comment  8000 non-null   object\n",
      " 1   Label    8000 non-null   object\n",
      "dtypes: object(2)\n",
      "memory usage: 125.1+ KB\n",
      "None\n",
      "\n",
      "21. Covid-19\n",
      "<class 'pandas.core.frame.DataFrame'>\n",
      "RangeIndex: 700 entries, 0 to 699\n",
      "Data columns (total 2 columns):\n",
      " #   Column   Non-Null Count  Dtype \n",
      "---  ------   --------------  ----- \n",
      " 0   Comment  700 non-null    object\n",
      " 1   Label    700 non-null    object\n",
      "dtypes: object(2)\n",
      "memory usage: 11.1+ KB\n",
      "None\n",
      "\n",
      "22. Government\n",
      "<class 'pandas.core.frame.DataFrame'>\n",
      "RangeIndex: 5710 entries, 0 to 5709\n",
      "Data columns (total 2 columns):\n",
      " #   Column   Non-Null Count  Dtype \n",
      "---  ------   --------------  ----- \n",
      " 0   Comment  5710 non-null   object\n",
      " 1   Label    5710 non-null   object\n",
      "dtypes: object(2)\n",
      "memory usage: 89.3+ KB\n",
      "None\n",
      "\n"
     ]
    }
   ],
   "source": [
    "# Checking info of each dataframe.\n",
    "for i in domain_range:\n",
    "    print(\"{}. \".format(i+1) + domains[i]) \n",
    "    print(str(dfs[i].info()) + \"\\n\")"
   ]
  },
  {
   "cell_type": "markdown",
   "id": "fedac04d-6496-4989-a1ae-1d531c35fb6c",
   "metadata": {},
   "source": [
    "The number of records in the dataframes ranges from 700 (Covid-19) to 12,000 (Tourism).\n",
    "\n",
    "15 out of 22 dataframes have more than 10,000 records."
   ]
  },
  {
   "cell_type": "code",
   "execution_count": 6,
   "id": "f947e6b7-aff6-4727-aedf-1d3b7f87800d",
   "metadata": {
    "tags": []
   },
   "outputs": [
    {
     "name": "stdout",
     "output_type": "stream",
     "text": [
      "1. Emotion\n",
      "0\n",
      "\n",
      "2. Celebrities\n",
      "0\n",
      "\n",
      "3. Finance\n",
      "0\n",
      "\n",
      "4. Law\n",
      "0\n",
      "\n",
      "5. Sports\n",
      "0\n",
      "\n",
      "6. Cinema\n",
      "0\n",
      "\n",
      "7. Shows\n",
      "1\n",
      "\n",
      "8. Campus\n",
      "0\n",
      "\n",
      "9. Tourism\n",
      "0\n",
      "\n",
      "10. TV_Dramas\n",
      "0\n",
      "\n",
      "11. Technology\n",
      "0\n",
      "\n",
      "12. Health\n",
      "0\n",
      "\n",
      "13. Games\n",
      "0\n",
      "\n",
      "14. Military\n",
      "0\n",
      "\n",
      "15. Digital\n",
      "0\n",
      "\n",
      "16. Constellations\n",
      "0\n",
      "\n",
      "17. Fitness\n",
      "0\n",
      "\n",
      "18. Comedy\n",
      "5\n",
      "\n",
      "19. Animation\n",
      "8\n",
      "\n",
      "20. International\n",
      "0\n",
      "\n",
      "21. Covid-19\n",
      "0\n",
      "\n",
      "22. Government\n",
      "0\n",
      "\n"
     ]
    }
   ],
   "source": [
    "# Checking for null values.\n",
    "for i in domain_range:\n",
    "    print(\"{}. \".format(i+1) + domains[i])\n",
    "    print(str(dfs[i].isna().sum().sum()) + \"\\n\")"
   ]
  },
  {
   "cell_type": "code",
   "execution_count": 7,
   "id": "6fa38470-b4e3-4935-9ba7-bfdc4d5553d9",
   "metadata": {
    "tags": []
   },
   "outputs": [
    {
     "name": "stdout",
     "output_type": "stream",
     "text": [
      "1. Emotion\n",
      "0\n",
      "\n",
      "2. Celebrities\n",
      "0\n",
      "\n",
      "3. Finance\n",
      "0\n",
      "\n",
      "4. Law\n",
      "0\n",
      "\n",
      "5. Sports\n",
      "0\n",
      "\n",
      "6. Cinema\n",
      "0\n",
      "\n",
      "7. Shows\n",
      "0\n",
      "\n",
      "8. Campus\n",
      "0\n",
      "\n",
      "9. Tourism\n",
      "0\n",
      "\n",
      "10. TV_Dramas\n",
      "0\n",
      "\n",
      "11. Technology\n",
      "0\n",
      "\n",
      "12. Health\n",
      "0\n",
      "\n",
      "13. Games\n",
      "0\n",
      "\n",
      "14. Military\n",
      "0\n",
      "\n",
      "15. Digital\n",
      "0\n",
      "\n",
      "16. Constellations\n",
      "0\n",
      "\n",
      "17. Fitness\n",
      "0\n",
      "\n",
      "18. Comedy\n",
      "0\n",
      "\n",
      "19. Animation\n",
      "0\n",
      "\n",
      "20. International\n",
      "0\n",
      "\n",
      "21. Covid-19\n",
      "0\n",
      "\n",
      "22. Government\n",
      "0\n",
      "\n"
     ]
    }
   ],
   "source": [
    "# Dropping rows with null values.\n",
    "for i in domain_range:\n",
    "    dfs[i] = dfs[i].dropna()\n",
    "\n",
    "\n",
    "# Checking null values.\n",
    "for i in domain_range:\n",
    "    print(\"{}. \".format(i+1) + domains[i])\n",
    "    print(str(dfs[i].isna().sum().sum()) + \"\\n\")"
   ]
  },
  {
   "cell_type": "code",
   "execution_count": 8,
   "id": "2fa12bbf-31a9-4b7a-b979-ac5e596d6245",
   "metadata": {
    "tags": []
   },
   "outputs": [
    {
     "name": "stdout",
     "output_type": "stream",
     "text": [
      "1. Emotion\n",
      "Label\n",
      "中性    8719\n",
      "积极    1566\n",
      "消极     715\n",
      "Name: count, dtype: int64\n",
      "\n",
      "2. Celebrities\n",
      "Label\n",
      "积极    7135\n",
      "中性    2181\n",
      "消极    1684\n",
      "Name: count, dtype: int64\n",
      "\n",
      "3. Finance\n",
      "Label\n",
      "中性    4778\n",
      "消极    3287\n",
      "积极    2935\n",
      "Name: count, dtype: int64\n",
      "\n",
      "4. Law\n",
      "Label\n",
      "积极    5744\n",
      "中性    2791\n",
      "消极    2465\n",
      "Name: count, dtype: int64\n",
      "\n",
      "5. Sports\n",
      "Label\n",
      "积极    3239\n",
      "中性    1986\n",
      "消极    1655\n",
      "Name: count, dtype: int64\n",
      "\n",
      "6. Cinema\n",
      "Label\n",
      "积极    5454\n",
      "消极    3855\n",
      "中性    1691\n",
      "Name: count, dtype: int64\n",
      "\n",
      "7. Shows\n",
      "Label\n",
      "积极    5424\n",
      "中性    3955\n",
      "消极    1620\n",
      "Name: count, dtype: int64\n",
      "\n",
      "8. Campus\n",
      "Label\n",
      "消极    5897\n",
      "中性    2897\n",
      "积极    2206\n",
      "Name: count, dtype: int64\n",
      "\n",
      "9. Tourism\n",
      "Label\n",
      "积极    6734\n",
      "中性    4957\n",
      "消极     309\n",
      "Name: count, dtype: int64\n",
      "\n",
      "10. TV_Dramas\n",
      "Label\n",
      "积极    6451\n",
      "消极    2735\n",
      "中性    1634\n",
      "Name: count, dtype: int64\n",
      "\n",
      "11. Technology\n",
      "Label\n",
      "积极    1575\n",
      "中性    1513\n",
      "消极     942\n",
      "Name: count, dtype: int64\n",
      "\n",
      "12. Health\n",
      "Label\n",
      "积极    4773\n",
      "消极    1587\n",
      "中性     140\n",
      "Name: count, dtype: int64\n",
      "\n",
      "13. Games\n",
      "Label\n",
      "积极    4812\n",
      "中性    3533\n",
      "消极    2655\n",
      "Name: count, dtype: int64\n",
      "\n",
      "14. Military\n",
      "Label\n",
      "积极     4011\n",
      "消极     3827\n",
      "中性     3159\n",
      "积极        2\n",
      "消极        1\n",
      "Name: count, dtype: int64\n",
      "\n",
      "15. Digital\n",
      "Label\n",
      "积极     5886\n",
      "消极     3305\n",
      "中性     1808\n",
      "消极        1\n",
      "Name: count, dtype: int64\n",
      "\n",
      "16. Constellations\n",
      "Label\n",
      "积极      4311\n",
      "消极      2421\n",
      " 积极     1382\n",
      "中性      1235\n",
      " 消极      916\n",
      " 中性      785\n",
      "积极        23\n",
      "消极        17\n",
      "中性         8\n",
      "  消极       2\n",
      "Name: count, dtype: int64\n",
      "\n",
      "17. Fitness\n",
      "Label\n",
      "积极     4662\n",
      "消极     2032\n",
      "中性     1905\n",
      "积极        1\n",
      "Name: count, dtype: int64\n",
      "\n",
      "18. Comedy\n",
      "Label\n",
      "积极     4398\n",
      "消极     4265\n",
      "中性     2329\n",
      "积极        2\n",
      "消极        1\n",
      "Name: count, dtype: int64\n",
      "\n",
      "19. Animation\n",
      "Label\n",
      "中性     4693\n",
      "积极     4237\n",
      "消极     2060\n",
      "中性        1\n",
      "积极        1\n",
      "Name: count, dtype: int64\n",
      "\n",
      "20. International\n",
      "Label\n",
      "积极    5077\n",
      "消极    1820\n",
      "中性    1103\n",
      "Name: count, dtype: int64\n",
      "\n",
      "21. Covid-19\n",
      "Label\n",
      "积极    302\n",
      "消极    208\n",
      "中性    190\n",
      "Name: count, dtype: int64\n",
      "\n",
      "22. Government\n",
      "Label\n",
      "积极    2606\n",
      "中性    2180\n",
      "消极     924\n",
      "Name: count, dtype: int64\n",
      "\n"
     ]
    }
   ],
   "source": [
    "# Checking Label column.\n",
    "for i in domain_range:\n",
    "    print(\"{}. \".format(i+1) + domains[i]) \n",
    "    print(str(dfs[i][\"Label\"].value_counts()) + \"\\n\")"
   ]
  },
  {
   "cell_type": "markdown",
   "id": "9e74df47-2a4a-4391-9cd3-cd5dd2bd8167",
   "metadata": {},
   "source": [
    "Labels in some dataframes have duplicates that need cleaning"
   ]
  },
  {
   "cell_type": "code",
   "execution_count": 9,
   "id": "563d7a22-29c9-4cd0-b554-31dc398b2cea",
   "metadata": {
    "tags": []
   },
   "outputs": [
    {
     "name": "stdout",
     "output_type": "stream",
     "text": [
      "1. Emotion\n",
      "Label\n",
      "中性    8719\n",
      "积极    1566\n",
      "消极     715\n",
      "Name: count, dtype: int64\n",
      "\n",
      "2. Celebrities\n",
      "Label\n",
      "积极    7135\n",
      "中性    2181\n",
      "消极    1684\n",
      "Name: count, dtype: int64\n",
      "\n",
      "3. Finance\n",
      "Label\n",
      "中性    4778\n",
      "消极    3287\n",
      "积极    2935\n",
      "Name: count, dtype: int64\n",
      "\n",
      "4. Law\n",
      "Label\n",
      "积极    5744\n",
      "中性    2791\n",
      "消极    2465\n",
      "Name: count, dtype: int64\n",
      "\n",
      "5. Sports\n",
      "Label\n",
      "积极    3239\n",
      "中性    1986\n",
      "消极    1655\n",
      "Name: count, dtype: int64\n",
      "\n",
      "6. Cinema\n",
      "Label\n",
      "积极    5454\n",
      "消极    3855\n",
      "中性    1691\n",
      "Name: count, dtype: int64\n",
      "\n",
      "7. Shows\n",
      "Label\n",
      "积极    5424\n",
      "中性    3955\n",
      "消极    1620\n",
      "Name: count, dtype: int64\n",
      "\n",
      "8. Campus\n",
      "Label\n",
      "消极    5897\n",
      "中性    2897\n",
      "积极    2206\n",
      "Name: count, dtype: int64\n",
      "\n",
      "9. Tourism\n",
      "Label\n",
      "积极    6734\n",
      "中性    4957\n",
      "消极     309\n",
      "Name: count, dtype: int64\n",
      "\n",
      "10. TV_Dramas\n",
      "Label\n",
      "积极    6451\n",
      "消极    2735\n",
      "中性    1634\n",
      "Name: count, dtype: int64\n",
      "\n",
      "11. Technology\n",
      "Label\n",
      "积极    1575\n",
      "中性    1513\n",
      "消极     942\n",
      "Name: count, dtype: int64\n",
      "\n",
      "12. Health\n",
      "Label\n",
      "积极    4773\n",
      "消极    1587\n",
      "中性     140\n",
      "Name: count, dtype: int64\n",
      "\n",
      "13. Games\n",
      "Label\n",
      "积极    4812\n",
      "中性    3533\n",
      "消极    2655\n",
      "Name: count, dtype: int64\n",
      "\n",
      "14. Military\n",
      "Label\n",
      "积极    4013\n",
      "消极    3828\n",
      "中性    3159\n",
      "Name: count, dtype: int64\n",
      "\n",
      "15. Digital\n",
      "Label\n",
      "积极    5886\n",
      "消极    3306\n",
      "中性    1808\n",
      "Name: count, dtype: int64\n",
      "\n",
      "16. Constellations\n",
      "Label\n",
      "积极    5716\n",
      "消极    3356\n",
      "中性    2028\n",
      "Name: count, dtype: int64\n",
      "\n",
      "17. Fitness\n",
      "Label\n",
      "积极    4663\n",
      "消极    2032\n",
      "中性    1905\n",
      "Name: count, dtype: int64\n",
      "\n",
      "18. Comedy\n",
      "Label\n",
      "积极    4400\n",
      "消极    4266\n",
      "中性    2329\n",
      "Name: count, dtype: int64\n",
      "\n",
      "19. Animation\n",
      "Label\n",
      "中性    4694\n",
      "积极    4238\n",
      "消极    2060\n",
      "Name: count, dtype: int64\n",
      "\n",
      "20. International\n",
      "Label\n",
      "积极    5077\n",
      "消极    1820\n",
      "中性    1103\n",
      "Name: count, dtype: int64\n",
      "\n",
      "21. Covid-19\n",
      "Label\n",
      "积极    302\n",
      "消极    208\n",
      "中性    190\n",
      "Name: count, dtype: int64\n",
      "\n",
      "22. Government\n",
      "Label\n",
      "积极    2606\n",
      "中性    2180\n",
      "消极     924\n",
      "Name: count, dtype: int64\n",
      "\n"
     ]
    }
   ],
   "source": [
    "# Cleaning duplicates with .strip().\n",
    "for i in domain_range:\n",
    "    dfs[i][\"Label\"] = dfs[i][\"Label\"].str.strip()\n",
    "\n",
    "\n",
    "# Checking labels.\n",
    "for i in domain_range:\n",
    "    print(\"{}. \".format(i+1) + domains[i])\n",
    "    print(str(dfs[i][\"Label\"].value_counts()) + \"\\n\")"
   ]
  },
  {
   "cell_type": "markdown",
   "id": "76dfae2b-35e9-41ed-8fbe-f802ca756421",
   "metadata": {},
   "source": [
    "There are no more label duplicates in any dataframes.\n",
    "Labels can be renamed to English"
   ]
  },
  {
   "cell_type": "code",
   "execution_count": 10,
   "id": "3112ece1-e49e-4cf4-b0d9-60b7e506130f",
   "metadata": {
    "tags": []
   },
   "outputs": [
    {
     "name": "stdout",
     "output_type": "stream",
     "text": [
      "1. Emotion\n",
      "Label\n",
      "NEUTRAL     8719\n",
      "POSITIVE    1566\n",
      "NEGATIVE     715\n",
      "Name: count, dtype: int64\n",
      "\n",
      "2. Celebrities\n",
      "Label\n",
      "POSITIVE    7135\n",
      "NEUTRAL     2181\n",
      "NEGATIVE    1684\n",
      "Name: count, dtype: int64\n",
      "\n",
      "3. Finance\n",
      "Label\n",
      "NEUTRAL     4778\n",
      "NEGATIVE    3287\n",
      "POSITIVE    2935\n",
      "Name: count, dtype: int64\n",
      "\n",
      "4. Law\n",
      "Label\n",
      "POSITIVE    5744\n",
      "NEUTRAL     2791\n",
      "NEGATIVE    2465\n",
      "Name: count, dtype: int64\n",
      "\n",
      "5. Sports\n",
      "Label\n",
      "POSITIVE    3239\n",
      "NEUTRAL     1986\n",
      "NEGATIVE    1655\n",
      "Name: count, dtype: int64\n",
      "\n",
      "6. Cinema\n",
      "Label\n",
      "POSITIVE    5454\n",
      "NEGATIVE    3855\n",
      "NEUTRAL     1691\n",
      "Name: count, dtype: int64\n",
      "\n",
      "7. Shows\n",
      "Label\n",
      "POSITIVE    5424\n",
      "NEUTRAL     3955\n",
      "NEGATIVE    1620\n",
      "Name: count, dtype: int64\n",
      "\n",
      "8. Campus\n",
      "Label\n",
      "NEGATIVE    5897\n",
      "NEUTRAL     2897\n",
      "POSITIVE    2206\n",
      "Name: count, dtype: int64\n",
      "\n",
      "9. Tourism\n",
      "Label\n",
      "POSITIVE    6734\n",
      "NEUTRAL     4957\n",
      "NEGATIVE     309\n",
      "Name: count, dtype: int64\n",
      "\n",
      "10. TV_Dramas\n",
      "Label\n",
      "POSITIVE    6451\n",
      "NEGATIVE    2735\n",
      "NEUTRAL     1634\n",
      "Name: count, dtype: int64\n",
      "\n",
      "11. Technology\n",
      "Label\n",
      "POSITIVE    1575\n",
      "NEUTRAL     1513\n",
      "NEGATIVE     942\n",
      "Name: count, dtype: int64\n",
      "\n",
      "12. Health\n",
      "Label\n",
      "POSITIVE    4773\n",
      "NEGATIVE    1587\n",
      "NEUTRAL      140\n",
      "Name: count, dtype: int64\n",
      "\n",
      "13. Games\n",
      "Label\n",
      "POSITIVE    4812\n",
      "NEUTRAL     3533\n",
      "NEGATIVE    2655\n",
      "Name: count, dtype: int64\n",
      "\n",
      "14. Military\n",
      "Label\n",
      "POSITIVE    4013\n",
      "NEGATIVE    3828\n",
      "NEUTRAL     3159\n",
      "Name: count, dtype: int64\n",
      "\n",
      "15. Digital\n",
      "Label\n",
      "POSITIVE    5886\n",
      "NEGATIVE    3306\n",
      "NEUTRAL     1808\n",
      "Name: count, dtype: int64\n",
      "\n",
      "16. Constellations\n",
      "Label\n",
      "POSITIVE    5716\n",
      "NEGATIVE    3356\n",
      "NEUTRAL     2028\n",
      "Name: count, dtype: int64\n",
      "\n",
      "17. Fitness\n",
      "Label\n",
      "POSITIVE    4663\n",
      "NEGATIVE    2032\n",
      "NEUTRAL     1905\n",
      "Name: count, dtype: int64\n",
      "\n",
      "18. Comedy\n",
      "Label\n",
      "POSITIVE    4400\n",
      "NEGATIVE    4266\n",
      "NEUTRAL     2329\n",
      "Name: count, dtype: int64\n",
      "\n",
      "19. Animation\n",
      "Label\n",
      "NEUTRAL     4694\n",
      "POSITIVE    4238\n",
      "NEGATIVE    2060\n",
      "Name: count, dtype: int64\n",
      "\n",
      "20. International\n",
      "Label\n",
      "POSITIVE    5077\n",
      "NEGATIVE    1820\n",
      "NEUTRAL     1103\n",
      "Name: count, dtype: int64\n",
      "\n",
      "21. Covid-19\n",
      "Label\n",
      "POSITIVE    302\n",
      "NEGATIVE    208\n",
      "NEUTRAL     190\n",
      "Name: count, dtype: int64\n",
      "\n",
      "22. Government\n",
      "Label\n",
      "POSITIVE    2606\n",
      "NEUTRAL     2180\n",
      "NEGATIVE     924\n",
      "Name: count, dtype: int64\n",
      "\n"
     ]
    }
   ],
   "source": [
    "# Renaming labels to POSITIVE, NEUTRAL and NEGATIVE.\n",
    "for i in domain_range:\n",
    "    dfs[i][\"Label\"] = dfs[i][\"Label\"].apply(lambda label: \n",
    "                                            'POSITIVE' if label=='积极'\n",
    "                                            else ('NEUTRAL' if label=='中性' \n",
    "                                                  else 'NEGATIVE'))\n",
    "\n",
    "\n",
    "# Checking labels.\n",
    "for i in domain_range:\n",
    "    print(\"{}. \".format(i+1) + domains[i])\n",
    "    print(str(dfs[i][\"Label\"].value_counts()) + \"\\n\")"
   ]
  },
  {
   "cell_type": "markdown",
   "id": "331b7152-e804-43bc-bc7f-b350b668bfc1",
   "metadata": {},
   "source": [
    "SpaCy's TextCategorizer accepts strings as inputs, and some of the comments can be numeric."
   ]
  },
  {
   "cell_type": "code",
   "execution_count": 11,
   "id": "ad96fb68-4d4d-4b2a-bd63-47cffe782954",
   "metadata": {
    "tags": []
   },
   "outputs": [
    {
     "name": "stdout",
     "output_type": "stream",
     "text": [
      "1. Emotion\n",
      "Comment\n",
      "<class 'str'>    11000\n",
      "Name: count, dtype: int64\n",
      "\n",
      "2. Celebrities\n",
      "Comment\n",
      "<class 'str'>    11000\n",
      "Name: count, dtype: int64\n",
      "\n",
      "3. Finance\n",
      "Comment\n",
      "<class 'str'>    11000\n",
      "Name: count, dtype: int64\n",
      "\n",
      "4. Law\n",
      "Comment\n",
      "<class 'str'>    11000\n",
      "Name: count, dtype: int64\n",
      "\n",
      "5. Sports\n",
      "Comment\n",
      "<class 'str'>    6880\n",
      "Name: count, dtype: int64\n",
      "\n",
      "6. Cinema\n",
      "Comment\n",
      "<class 'str'>    11000\n",
      "Name: count, dtype: int64\n",
      "\n",
      "7. Shows\n",
      "Comment\n",
      "<class 'str'>    10997\n",
      "<class 'int'>        2\n",
      "Name: count, dtype: int64\n",
      "\n",
      "8. Campus\n",
      "Comment\n",
      "<class 'str'>    11000\n",
      "Name: count, dtype: int64\n",
      "\n",
      "9. Tourism\n",
      "Comment\n",
      "<class 'str'>    12000\n",
      "Name: count, dtype: int64\n",
      "\n",
      "10. TV_Dramas\n",
      "Comment\n",
      "<class 'str'>    10820\n",
      "Name: count, dtype: int64\n",
      "\n",
      "11. Technology\n",
      "Comment\n",
      "<class 'str'>    4030\n",
      "Name: count, dtype: int64\n",
      "\n",
      "12. Health\n",
      "Comment\n",
      "<class 'str'>    6500\n",
      "Name: count, dtype: int64\n",
      "\n",
      "13. Games\n",
      "Comment\n",
      "<class 'str'>    10990\n",
      "<class 'int'>       10\n",
      "Name: count, dtype: int64\n",
      "\n",
      "14. Military\n",
      "Comment\n",
      "<class 'str'>    10993\n",
      "<class 'int'>        7\n",
      "Name: count, dtype: int64\n",
      "\n",
      "15. Digital\n",
      "Comment\n",
      "<class 'str'>      10979\n",
      "<class 'int'>         20\n",
      "<class 'float'>        1\n",
      "Name: count, dtype: int64\n",
      "\n",
      "16. Constellations\n",
      "Comment\n",
      "<class 'str'>    11096\n",
      "<class 'int'>        4\n",
      "Name: count, dtype: int64\n",
      "\n",
      "17. Fitness\n",
      "Comment\n",
      "<class 'str'>      8589\n",
      "<class 'int'>        10\n",
      "<class 'float'>       1\n",
      "Name: count, dtype: int64\n",
      "\n",
      "18. Comedy\n",
      "Comment\n",
      "<class 'str'>    10989\n",
      "<class 'int'>        6\n",
      "Name: count, dtype: int64\n",
      "\n",
      "19. Animation\n",
      "Comment\n",
      "<class 'str'>    10983\n",
      "<class 'int'>        9\n",
      "Name: count, dtype: int64\n",
      "\n",
      "20. International\n",
      "Comment\n",
      "<class 'str'>    7998\n",
      "<class 'int'>       2\n",
      "Name: count, dtype: int64\n",
      "\n",
      "21. Covid-19\n",
      "Comment\n",
      "<class 'str'>    700\n",
      "Name: count, dtype: int64\n",
      "\n",
      "22. Government\n",
      "Comment\n",
      "<class 'str'>    5707\n",
      "<class 'int'>       3\n",
      "Name: count, dtype: int64\n",
      "\n"
     ]
    }
   ],
   "source": [
    "# Making sure every comment is a string.\n",
    "for i in domain_range:\n",
    "    print(\"{}. \".format(i+1) + domains[i])\n",
    "    print(str(dfs[i][\"Comment\"].map(type).value_counts()) + \"\\n\")"
   ]
  },
  {
   "cell_type": "markdown",
   "id": "117cf539-b183-4b09-8d39-b5565244708d",
   "metadata": {},
   "source": [
    "Some of the comments appear to be numeric. This needs to be addressed."
   ]
  },
  {
   "cell_type": "code",
   "execution_count": 12,
   "id": "be2fc5da-157c-460c-86dc-ddc7dfb01ec6",
   "metadata": {
    "tags": []
   },
   "outputs": [
    {
     "name": "stdout",
     "output_type": "stream",
     "text": [
      "1. Emotion\n",
      "Comment\n",
      "<class 'str'>    11000\n",
      "Name: count, dtype: int64\n",
      "\n",
      "2. Celebrities\n",
      "Comment\n",
      "<class 'str'>    11000\n",
      "Name: count, dtype: int64\n",
      "\n",
      "3. Finance\n",
      "Comment\n",
      "<class 'str'>    11000\n",
      "Name: count, dtype: int64\n",
      "\n",
      "4. Law\n",
      "Comment\n",
      "<class 'str'>    11000\n",
      "Name: count, dtype: int64\n",
      "\n",
      "5. Sports\n",
      "Comment\n",
      "<class 'str'>    6880\n",
      "Name: count, dtype: int64\n",
      "\n",
      "6. Cinema\n",
      "Comment\n",
      "<class 'str'>    11000\n",
      "Name: count, dtype: int64\n",
      "\n",
      "7. Shows\n",
      "Comment\n",
      "<class 'str'>    10999\n",
      "Name: count, dtype: int64\n",
      "\n",
      "8. Campus\n",
      "Comment\n",
      "<class 'str'>    11000\n",
      "Name: count, dtype: int64\n",
      "\n",
      "9. Tourism\n",
      "Comment\n",
      "<class 'str'>    12000\n",
      "Name: count, dtype: int64\n",
      "\n",
      "10. TV_Dramas\n",
      "Comment\n",
      "<class 'str'>    10820\n",
      "Name: count, dtype: int64\n",
      "\n",
      "11. Technology\n",
      "Comment\n",
      "<class 'str'>    4030\n",
      "Name: count, dtype: int64\n",
      "\n",
      "12. Health\n",
      "Comment\n",
      "<class 'str'>    6500\n",
      "Name: count, dtype: int64\n",
      "\n",
      "13. Games\n",
      "Comment\n",
      "<class 'str'>    11000\n",
      "Name: count, dtype: int64\n",
      "\n",
      "14. Military\n",
      "Comment\n",
      "<class 'str'>    11000\n",
      "Name: count, dtype: int64\n",
      "\n",
      "15. Digital\n",
      "Comment\n",
      "<class 'str'>    11000\n",
      "Name: count, dtype: int64\n",
      "\n",
      "16. Constellations\n",
      "Comment\n",
      "<class 'str'>    11100\n",
      "Name: count, dtype: int64\n",
      "\n",
      "17. Fitness\n",
      "Comment\n",
      "<class 'str'>    8600\n",
      "Name: count, dtype: int64\n",
      "\n",
      "18. Comedy\n",
      "Comment\n",
      "<class 'str'>    10995\n",
      "Name: count, dtype: int64\n",
      "\n",
      "19. Animation\n",
      "Comment\n",
      "<class 'str'>    10992\n",
      "Name: count, dtype: int64\n",
      "\n",
      "20. International\n",
      "Comment\n",
      "<class 'str'>    8000\n",
      "Name: count, dtype: int64\n",
      "\n",
      "21. Covid-19\n",
      "Comment\n",
      "<class 'str'>    700\n",
      "Name: count, dtype: int64\n",
      "\n",
      "22. Government\n",
      "Comment\n",
      "<class 'str'>    5710\n",
      "Name: count, dtype: int64\n",
      "\n"
     ]
    }
   ],
   "source": [
    "# Casting comments as strings.\n",
    "for i in domain_range:\n",
    "    dfs[i][\"Comment\"] = dfs[i][\"Comment\"].apply(str)\n",
    "\n",
    "\n",
    "# Checking comment types.\n",
    "for i in domain_range:\n",
    "    print(\"{}. \".format(i+1) + domains[i])\n",
    "    print(str(dfs[i][\"Comment\"].map(type).value_counts()) + \"\\n\")"
   ]
  },
  {
   "cell_type": "code",
   "execution_count": 13,
   "id": "76174a24-fe1e-4e0d-bd0a-c3379bc8df20",
   "metadata": {
    "tags": []
   },
   "outputs": [
    {
     "data": {
      "image/png": "[encoded data removed]",
      "text/plain": [
       "<Figure size 640x480 with 1 Axes>"
      ]
     },
     "metadata": {},
     "output_type": "display_data"
    }
   ],
   "source": [
    "# Plotting sentiment distribution for whole dataset.\n",
    "pos = 0\n",
    "neu = 0\n",
    "neg = 0\n",
    "\n",
    "for i in domain_range:\n",
    "    pos += dfs[i][\"Label\"].value_counts()[\"POSITIVE\"]\n",
    "    neu += dfs[i][\"Label\"].value_counts()[\"NEUTRAL\"]\n",
    "    neg += dfs[i][\"Label\"].value_counts()[\"NEGATIVE\"]\n",
    "\n",
    "labels = [\"POSITIVE\", \"NEUTRAL\", \"NEGATIVE\"]\n",
    "sizes = [pos, neu, neg]\n",
    "colors = [(0.529, 0.922, 0.592), (0.529, 0.867, 0.922), (0.941, 0.529, 0.471)]\n",
    "\n",
    "fig, ax = plt.subplots()\n",
    "ax.pie(sizes, labels=labels, autopct='%1.1f%%', \n",
    "       colors=colors)\n",
    "ax.set_title(\"Sentiment Distribution of the Data\\n\")\n",
    "plt.savefig(\"./plots/data_sentiment.png\")\n",
    "plt.show()"
   ]
  },
  {
   "cell_type": "code",
   "execution_count": 14,
   "id": "074cc96c-92cb-4ac3-a36a-89f79a80cbe2",
   "metadata": {
    "tags": []
   },
   "outputs": [
    {
     "data": {
      "image/png": "[encoded data removed]",
      "text/plain": [
       "<Figure size 1500x2000 with 23 Axes>"
      ]
     },
     "metadata": {},
     "output_type": "display_data"
    }
   ],
   "source": [
    "# Plotting sentiment distribution for each domain.\n",
    "fig = plt.figure(figsize=(15, 20))\n",
    "plt.title(\"Sentiment Distribution per Domain\\n\\n\")\n",
    "plt.axis(\"off\")\n",
    "for i in domain_range:\n",
    "    pos = dfs[i][\"Label\"].value_counts()[\"POSITIVE\"]\n",
    "    neu = dfs[i][\"Label\"].value_counts()[\"NEUTRAL\"]\n",
    "    neg = dfs[i][\"Label\"].value_counts()[\"NEGATIVE\"]\n",
    "    sizes = [pos, neu, neg]\n",
    "    plt.subplot(6, 4, i+1, title=\"\\n\"+domains[i])\n",
    "    plt.pie(sizes, autopct=\"%1.1f%%\",\n",
    "            colors=colors)\n",
    "\n",
    "lbl_to_clr = {lbl: clr for lbl, clr in zip(labels, colors)}\n",
    "handles = [plt.Rectangle((0, 0), 0, 0, color=lbl_to_clr[lbl], label=lbl) for lbl in lbl_to_clr]\n",
    "fig.legend(handles=handles, loc=\"center right\", title=\"Sentiment\")\n",
    "plt.savefig(\"./plots/domain_sentiment.png\")\n",
    "plt.show()"
   ]
  },
  {
   "cell_type": "markdown",
   "id": "263e48c5-fbd7-44d7-93f9-e7bdec856f33",
   "metadata": {},
   "source": [
    "With no null values, labels in order, and somments as strings, data can be sampled.\n",
    "\n",
    "10% of the data will be sampled, as it was specified in the research methodology."
   ]
  },
  {
   "cell_type": "code",
   "execution_count": 15,
   "id": "2c4b485d-d6b0-4b30-8025-239e0c50ee74",
   "metadata": {
    "tags": []
   },
   "outputs": [
    {
     "name": "stdout",
     "output_type": "stream",
     "text": [
      "<class 'pandas.core.frame.DataFrame'>\n",
      "Index: 20633 entries, 9227 to 778\n",
      "Data columns (total 2 columns):\n",
      " #   Column   Non-Null Count  Dtype \n",
      "---  ------   --------------  ----- \n",
      " 0   Comment  20633 non-null  object\n",
      " 1   Label    20633 non-null  object\n",
      "dtypes: object(2)\n",
      "memory usage: 483.6+ KB\n"
     ]
    }
   ],
   "source": [
    "# Sampling 10% of each dataframe.\n",
    "# Concatenating into new dataframe.\n",
    "df_main = pd.DataFrame()\n",
    "\n",
    "for i in domain_range:\n",
    "    sampled_df = dfs[i].sample(frac=0.1, random_state=25)\n",
    "    df_main = pd.concat([df_main, sampled_df])\n",
    "\n",
    "df_main.info()"
   ]
  },
  {
   "cell_type": "code",
   "execution_count": 16,
   "id": "b61b6618-76ed-45ea-a338-57db8d3c8d5a",
   "metadata": {
    "tags": []
   },
   "outputs": [
    {
     "name": "stdout",
     "output_type": "stream",
     "text": [
      "Label\n",
      "POSITIVE    9480\n",
      "NEUTRAL     6015\n",
      "NEGATIVE    5138\n",
      "Name: count, dtype: int64\n"
     ]
    }
   ],
   "source": [
    "# Checking main_df's sentiment distribution.\n",
    "main_values = df_main[\"Label\"].value_counts()\n",
    "print(main_values)"
   ]
  },
  {
   "cell_type": "code",
   "execution_count": 17,
   "id": "548b4e75-8e56-4c4d-96db-be4bcd68c736",
   "metadata": {
    "tags": []
   },
   "outputs": [
    {
     "data": {
      "image/png": "[encoded data removed]",
      "text/plain": [
       "<Figure size 640x480 with 1 Axes>"
      ]
     },
     "metadata": {},
     "output_type": "display_data"
    }
   ],
   "source": [
    "# Plotting sample's sentiment distribution.\n",
    "fig, ax = plt.subplots()\n",
    "ax.pie(main_values.values, labels=main_values.index, autopct='%1.1f%%', \n",
    "       colors=colors)\n",
    "ax.set_title(\"Sentiment Distribution of the Sample\\n\")\n",
    "plt.savefig(\"./plots/sample_sentiment.png\")\n",
    "plt.show()"
   ]
  },
  {
   "cell_type": "code",
   "execution_count": 18,
   "id": "1bd6b67f-e471-453d-b8e9-dfbdf3b37176",
   "metadata": {
    "tags": []
   },
   "outputs": [
    {
     "name": "stdout",
     "output_type": "stream",
     "text": [
      "<class 'pandas.core.frame.DataFrame'>\n",
      "Index: 2063 entries, 7030 to 1606\n",
      "Data columns (total 2 columns):\n",
      " #   Column   Non-Null Count  Dtype \n",
      "---  ------   --------------  ----- \n",
      " 0   Comment  2063 non-null   object\n",
      " 1   Label    2063 non-null   object\n",
      "dtypes: object(2)\n",
      "memory usage: 48.4+ KB\n"
     ]
    }
   ],
   "source": [
    "# Creating separate sample for testing (1% of all data).\n",
    "test_df = pd.DataFrame()\n",
    "\n",
    "for i in domain_range:\n",
    "    sampled_df = dfs[i].sample(frac=0.01, random_state=1)\n",
    "    test_df = pd.concat([test_df, sampled_df])\n",
    "\n",
    "test_df.info()"
   ]
  },
  {
   "cell_type": "code",
   "execution_count": 19,
   "id": "f1970af6-faa5-4191-bfd1-ca6de0cc0e92",
   "metadata": {
    "tags": []
   },
   "outputs": [
    {
     "name": "stdout",
     "output_type": "stream",
     "text": [
      "Label\n",
      "POSITIVE    950\n",
      "NEUTRAL     591\n",
      "NEGATIVE    522\n",
      "Name: count, dtype: int64\n"
     ]
    }
   ],
   "source": [
    "# Checking test sentiment distribution.\n",
    "test_values = test_df[\"Label\"].value_counts()\n",
    "print(test_values)"
   ]
  },
  {
   "cell_type": "code",
   "execution_count": 20,
   "id": "c8432d24-5584-409c-9bac-cd4e8ff000d4",
   "metadata": {
    "tags": []
   },
   "outputs": [
    {
     "data": {
      "image/png": "[encoded data removed]",
      "text/plain": [
       "<Figure size 640x480 with 1 Axes>"
      ]
     },
     "metadata": {},
     "output_type": "display_data"
    }
   ],
   "source": [
    "# Plotting test sentiment distribution.\n",
    "fig, ax = plt.subplots()\n",
    "ax.pie(test_values.values, labels=test_values.index, autopct='%1.1f%%', \n",
    "       colors=colors)\n",
    "ax.set_title(\"Sentiment Distribution of the Test Data\\n\")\n",
    "plt.savefig(\"./plots/test_sentiment.png\")\n",
    "plt.show()"
   ]
  },
  {
   "cell_type": "markdown",
   "id": "28e03c5e-faab-4eaf-8207-08a7c908fec4",
   "metadata": {},
   "source": [
    "The polarity distributions of the sample and the test data have very little difference"
   ]
  },
  {
   "cell_type": "markdown",
   "id": "1907333d-f7a7-4495-9944-9785284cbb70",
   "metadata": {},
   "source": [
    "### 1.4 Getting Data Ready for SpaCy"
   ]
  },
  {
   "cell_type": "code",
   "execution_count": 21,
   "id": "ac38fd28-675e-4c84-9168-39b0ec44c97e",
   "metadata": {
    "tags": []
   },
   "outputs": [
    {
     "data": {
      "text/html": [
       "<div>\n",
       "<style scoped>\n",
       "    .dataframe tbody tr th:only-of-type {\n",
       "        vertical-align: middle;\n",
       "    }\n",
       "\n",
       "    .dataframe tbody tr th {\n",
       "        vertical-align: top;\n",
       "    }\n",
       "\n",
       "    .dataframe thead th {\n",
       "        text-align: right;\n",
       "    }\n",
       "</style>\n",
       "<table border=\"1\" class=\"dataframe\">\n",
       "  <thead>\n",
       "    <tr style=\"text-align: right;\">\n",
       "      <th></th>\n",
       "      <th>Comment</th>\n",
       "      <th>Label</th>\n",
       "      <th>Tuple</th>\n",
       "    </tr>\n",
       "  </thead>\n",
       "  <tbody>\n",
       "    <tr>\n",
       "      <th>9227</th>\n",
       "      <td>尽量还是去大医院吧，会比较正规</td>\n",
       "      <td>NEUTRAL</td>\n",
       "      <td>(尽量还是去大医院吧，会比较正规, NEUTRAL)</td>\n",
       "    </tr>\n",
       "    <tr>\n",
       "      <th>10916</th>\n",
       "      <td>那就算了吧</td>\n",
       "      <td>NEUTRAL</td>\n",
       "      <td>(那就算了吧, NEUTRAL)</td>\n",
       "    </tr>\n",
       "    <tr>\n",
       "      <th>5046</th>\n",
       "      <td>我觉得很多本身没谈过恋爱或者还没直面社会的女生可能根本就不明白婚姻意味着什么，所以当她们在社...</td>\n",
       "      <td>NEUTRAL</td>\n",
       "      <td>(我觉得很多本身没谈过恋爱或者还没直面社会的女生可能根本就不明白婚姻意味着什么，所以当她们在...</td>\n",
       "    </tr>\n",
       "    <tr>\n",
       "      <th>10679</th>\n",
       "      <td>自我奋斗</td>\n",
       "      <td>NEUTRAL</td>\n",
       "      <td>(自我奋斗, NEUTRAL)</td>\n",
       "    </tr>\n",
       "    <tr>\n",
       "      <th>8128</th>\n",
       "      <td>我真的是万万没想到</td>\n",
       "      <td>NEUTRAL</td>\n",
       "      <td>(我真的是万万没想到, NEUTRAL)</td>\n",
       "    </tr>\n",
       "  </tbody>\n",
       "</table>\n",
       "</div>"
      ],
      "text/plain": [
       "                                                 Comment    Label  \\\n",
       "9227                                     尽量还是去大医院吧，会比较正规  NEUTRAL   \n",
       "10916                                              那就算了吧  NEUTRAL   \n",
       "5046   我觉得很多本身没谈过恋爱或者还没直面社会的女生可能根本就不明白婚姻意味着什么，所以当她们在社...  NEUTRAL   \n",
       "10679                                               自我奋斗  NEUTRAL   \n",
       "8128                                           我真的是万万没想到  NEUTRAL   \n",
       "\n",
       "                                                   Tuple  \n",
       "9227                          (尽量还是去大医院吧，会比较正规, NEUTRAL)  \n",
       "10916                                   (那就算了吧, NEUTRAL)  \n",
       "5046   (我觉得很多本身没谈过恋爱或者还没直面社会的女生可能根本就不明白婚姻意味着什么，所以当她们在...  \n",
       "10679                                    (自我奋斗, NEUTRAL)  \n",
       "8128                                (我真的是万万没想到, NEUTRAL)  "
      ]
     },
     "execution_count": 21,
     "metadata": {},
     "output_type": "execute_result"
    }
   ],
   "source": [
    "# Creating tuple columns for later conversion into .spacy format.\n",
    "df_main[\"Tuple\"] = df_main.apply(lambda row: (row['Comment'], row['Label']), axis=1)\n",
    "\n",
    "# Checking df_main.\n",
    "df_main.head()"
   ]
  },
  {
   "cell_type": "code",
   "execution_count": 22,
   "id": "1a2cc663-eac2-47e0-868a-e7e246edec49",
   "metadata": {
    "tags": []
   },
   "outputs": [
    {
     "name": "stdout",
     "output_type": "stream",
     "text": [
      "train_df \n",
      "\n",
      "<class 'pandas.core.frame.DataFrame'>\n",
      "Index: 16506 entries, 5975 to 5176\n",
      "Data columns (total 3 columns):\n",
      " #   Column   Non-Null Count  Dtype \n",
      "---  ------   --------------  ----- \n",
      " 0   Comment  16506 non-null  object\n",
      " 1   Label    16506 non-null  object\n",
      " 2   Tuple    16506 non-null  object\n",
      "dtypes: object(3)\n",
      "memory usage: 515.8+ KB\n",
      "None\n",
      "\n",
      "----------------------------------------\n",
      "\n",
      "valid_df \n",
      "\n",
      "<class 'pandas.core.frame.DataFrame'>\n",
      "Index: 4127 entries, 5803 to 2495\n",
      "Data columns (total 3 columns):\n",
      " #   Column   Non-Null Count  Dtype \n",
      "---  ------   --------------  ----- \n",
      " 0   Comment  4127 non-null   object\n",
      " 1   Label    4127 non-null   object\n",
      " 2   Tuple    4127 non-null   object\n",
      "dtypes: object(3)\n",
      "memory usage: 129.0+ KB\n",
      "None\n",
      "\n"
     ]
    }
   ],
   "source": [
    "# Splitting main_df into train and validation.\n",
    "train_df, valid_df = train_test_split(df_main, test_size=0.2, random_state=25)\n",
    "\n",
    "print(\"train_df \\n\")\n",
    "print(train_df.info())\n",
    "print(\"\\n\" + \"-\"*40 + \"\\n\")\n",
    "print(\"valid_df \\n\")\n",
    "print(str(valid_df.info()) + \"\\n\")"
   ]
  },
  {
   "cell_type": "code",
   "execution_count": 23,
   "id": "ccdd7f89-5d1f-4e74-b413-56082978cbea",
   "metadata": {
    "tags": []
   },
   "outputs": [
    {
     "name": "stdout",
     "output_type": "stream",
     "text": [
      "5975                  (每天演好一个情绪稳定的成年人?  , NEUTRAL)\n",
      "6530                          ([鲜花][鲜花], POSITIVE)\n",
      "10822                         (我可是铁粉[哇], POSITIVE)\n",
      "6589                           (哈哈哈哈哈哈哈, POSITIVE)\n",
      "7407     ([偷笑]他当时的表情好丰富，走路的姿势也与众不同，注定走红, POSITIVE)\n",
      "Name: Tuple, dtype: object\n",
      "\n",
      "----------------------------------------\n",
      "\n",
      "5803                                  (真香啊[憧憬], POSITIVE)\n",
      "7037                    (炒股赔钱心痛，那我们炒房赔大几十的也心疼哇, NEGATIVE)\n",
      "7552    (兔叽感觉好柔弱。让人很有保护欲。[doge]尽管与我无关。今天已经给我一个女性朋友推荐1s...\n",
      "9945                                     ([话筒], POSITIVE)\n",
      "9638                                    (啊泽太棒了, POSITIVE)\n",
      "Name: Tuple, dtype: object\n"
     ]
    }
   ],
   "source": [
    "# storing tuple columns as Pandas series\n",
    "\n",
    "train_data = train_df[\"Tuple\"]\n",
    "valid_data = valid_df[\"Tuple\"]\n",
    "\n",
    "print(train_data.head())\n",
    "print(\"\\n\" + \"-\"*40 + \"\\n\")\n",
    "print(valid_data.head())"
   ]
  },
  {
   "cell_type": "markdown",
   "id": "1a6d22bc-a1ec-4bf3-ad45-948945c8d55f",
   "metadata": {},
   "source": [
    "### 1.5 Data Preprocessing"
   ]
  },
  {
   "cell_type": "markdown",
   "id": "14e00c3c-6679-4594-a467-c8a1282e912e",
   "metadata": {},
   "source": [
    "The comments from the tuples need to go through the processing pipeline and get converted into SpaCy's Doc objects.\n",
    "\n",
    "The function below does the conversion and assigns values (1 or 0 depending on the label) to the Docs' cats property.\n",
    "\n",
    "Doc objects represent the preprocessed data with all the necessary metadata (vectors, POS tags, dependencies)."
   ]
  },
  {
   "cell_type": "code",
   "execution_count": 24,
   "id": "acb8de09-790b-477d-9161-bccfe95ae2e5",
   "metadata": {
    "tags": []
   },
   "outputs": [],
   "source": [
    "# Creating function to transform data into Doc objects.\n",
    "def make_docs(data):\n",
    "    docs = []\n",
    "    for doc, label in nlp.pipe(data, as_tuples=True):   # iterating through data and making Doc objects\n",
    "        \n",
    "        if label==\"POSITIVE\":\n",
    "            doc.cats[\"POSITIVE\"] = 1   # assigning 1 to positive for .cats property of positive Doc objects\n",
    "            doc.cats[\"NEGATIVE\"] = 0\n",
    "            doc.cats[\"NEUTRAL\"] = 0\n",
    "        \n",
    "        elif label==\"NEGATIVE\":\n",
    "            doc.cats[\"POSITIVE\"] = 0\n",
    "            doc.cats[\"NEGATIVE\"] = 1   # assigning 1 to negative for .cats property of negative Doc objects\n",
    "            doc.cats[\"NEUTRAL\"] = 0\n",
    "        \n",
    "        else:\n",
    "            doc.cats[\"POSITIVE\"] = 0\n",
    "            doc.cats[\"NEGATIVE\"] = 0\n",
    "            doc.cats[\"NEUTRAL\"] = 1    # assigning 1 to neutral for .cats property of neutral Doc objects\n",
    "        \n",
    "        docs.append(doc)\n",
    "    \n",
    "    return docs"
   ]
  },
  {
   "cell_type": "markdown",
   "id": "b00681ad-4d02-4959-903d-6903c0c4ec5a",
   "metadata": {},
   "source": [
    "Before using SpaCy's Chinese pipeline, it needs to be downloaded in the Command Line Interface (CLI) of the operating system.\n",
    "\n",
    "The command for downloading the pipeline is:\n",
    "\n",
    "`python -m spacy download zh_core_web_lg`"
   ]
  },
  {
   "cell_type": "code",
   "execution_count": 25,
   "id": "10b4596f-8cdc-4896-8b7d-d25eaa955275",
   "metadata": {
    "tags": []
   },
   "outputs": [
    {
     "data": {
      "text/plain": [
       "['tok2vec', 'tagger', 'parser', 'attribute_ruler', 'ner']"
      ]
     },
     "execution_count": 25,
     "metadata": {},
     "output_type": "execute_result"
    }
   ],
   "source": [
    "# Loading spacy's Chinese pipeline and checking pipeline components.\n",
    "nlp = spacy.load(\"zh_core_web_lg\")\n",
    "nlp.pipe_names"
   ]
  },
  {
   "cell_type": "code",
   "execution_count": 26,
   "id": "d1395b17-fcc8-43ee-bd82-3513280cfc49",
   "metadata": {
    "tags": []
   },
   "outputs": [
    {
     "data": {
      "text/plain": [
       "['tok2vec', 'tagger', 'parser']"
      ]
     },
     "execution_count": 26,
     "metadata": {},
     "output_type": "execute_result"
    }
   ],
   "source": [
    "# ner and attribute_ruler are unnecessary for this project.\n",
    "# Removing ner and attribute_ruler components.\n",
    "nlp.remove_pipe(\"ner\")\n",
    "nlp.remove_pipe(\"attribute_ruler\")\n",
    "nlp.pipe_names"
   ]
  },
  {
   "cell_type": "code",
   "execution_count": 27,
   "id": "fb37a077-008b-4534-bbe9-03e46564db23",
   "metadata": {
    "tags": []
   },
   "outputs": [],
   "source": [
    "# Creating spacy docs for train, valid and test tuples.\n",
    "train_docs = make_docs(train_data) \n",
    "doc_bin = DocBin(docs=train_docs)             # binarizing train_docs\n",
    "doc_bin.to_disk(\"./spacy_data/train.spacy\")   # saving binary train_docs\n",
    "\n",
    "valid_docs = make_docs(valid_data)\n",
    "doc_bin = DocBin(docs=valid_docs)             # binarizing valid_docs\n",
    "doc_bin.to_disk(\"./spacy_data/valid.spacy\")   # saving binary valid_docs"
   ]
  },
  {
   "cell_type": "code",
   "execution_count": 28,
   "id": "40459af8-18ab-40d6-88e3-a9a6406c5fc3",
   "metadata": {
    "tags": []
   },
   "outputs": [
    {
     "name": "stdout",
     "output_type": "stream",
     "text": [
      "('每天演好一个情绪稳定的成年人?  ', 'NEUTRAL')\n",
      "{'POSITIVE': 0, 'NEGATIVE': 0, 'NEUTRAL': 1}\n",
      "\n",
      "\n",
      "('真香啊[憧憬]', 'POSITIVE')\n",
      "{'POSITIVE': 1, 'NEGATIVE': 0, 'NEUTRAL': 0}\n"
     ]
    }
   ],
   "source": [
    "# Checking .cats property of Docs.\n",
    "print(train_data.iloc[0])\n",
    "print(train_docs[0].cats)\n",
    "print(\"\\n\")\n",
    "print(valid_data.iloc[0])\n",
    "print(valid_docs[0].cats)"
   ]
  },
  {
   "cell_type": "markdown",
   "id": "707b4e43-c4b8-486c-be11-d257a7dfeb78",
   "metadata": {},
   "source": [
    "## 2. Model Training"
   ]
  },
  {
   "cell_type": "markdown",
   "id": "d726cb87-12e3-47dd-8bb9-a91177538bd5",
   "metadata": {},
   "source": [
    "The training happens in the CLI.\n",
    "\n",
    "This process involves:\n",
    "\n",
    "1. Downloading an auto-generated partial configuration `base_config.cfg` file for the model training from SpaCy's __[training models webpage](https://spacy.io/usage/training#quickstart)__.\n",
    "    \n",
    "- The parameters for the base_config.cfg file are:\n",
    "        \n",
    "    - Language: Chinese\n",
    "    - Components: textcat\n",
    "    - Text Classification: exclusive categories\n",
    "    - Hardware: CPU\n",
    "    - Optimize for: accuracy\n",
    "\n",
    "- After downloading, the paths to the training and validation datasets must be specified. In this research project they are given like this:\n",
    "\n",
    "    `[paths]`\n",
    "\n",
    "    `train = \"spacy_data/train.spacy\"`\n",
    "    \n",
    "    `dev = 'spacy_data/valid.spacy'`\n",
    "\n",
    "- The width parameter of the CNN model should be changed (after many different combinations of parameters, this one outputs the best model):\n",
    "\n",
    "    `[components.tok2vec.model.encode]`\n",
    "    \n",
    "    `@architectures = \"spacy.MaxoutWindowEncoder.v2\"`\n",
    "    \n",
    "    `width =` __256 --> 128__\n",
    "    \n",
    "    `depth = 8`\n",
    "    \n",
    "    `window_size = 1`\n",
    "    \n",
    "    `maxout_pieces = 3`\n",
    "\n",
    "\n",
    "2. Creating the full config file by running `python -m spacy init fill-config ./base_config.cfg ./cinfig.cfg` in the CLI.\n",
    "\n",
    "- The arguments for the command above are:\n",
    "    - (`./base_config.cfg`) The path to the base_config.cfg file downloaded in step 1.\n",
    "    - (`./cinfig.cfg`) The path to the full config.cfg file to be created.\n",
    "\n",
    "3. Starting the training process by running `python -m spacy train config.cfg --output ./output` in the CLI.\n",
    "\n",
    "- The arguments for the command above are:\n",
    "    - (`config.cfg`) The path to the full config.cfg file created in step 2.\n",
    "    - (`--output ./output`)The path to the output directory.\n",
    "\n",
    "4. After the training process has finished, two models can be found in the output folder: model-best and model-last."
   ]
  },
  {
   "cell_type": "markdown",
   "id": "532d5304-8b78-4b8a-ab29-9f44a755489a",
   "metadata": {},
   "source": [
    "## 3. Model Evaluation"
   ]
  },
  {
   "cell_type": "markdown",
   "id": "7044bea1-02e7-413f-b146-0f6f32af2aa9",
   "metadata": {},
   "source": [
    "### 3.1 Getting Predictions"
   ]
  },
  {
   "cell_type": "code",
   "execution_count": 29,
   "id": "5f001d2e-1942-4cab-b407-bbe444737d56",
   "metadata": {
    "tags": []
   },
   "outputs": [
    {
     "data": {
      "text/plain": [
       "['tok2vec', 'textcat']"
      ]
     },
     "execution_count": 29,
     "metadata": {},
     "output_type": "execute_result"
    }
   ],
   "source": [
    "# Loading best model.\n",
    "nlp = spacy.load(\"output/model-best\")\n",
    "nlp.pipe_names"
   ]
  },
  {
   "cell_type": "code",
   "execution_count": 30,
   "id": "c27ec7e2-f5ca-4541-a488-0daab3b952ae",
   "metadata": {
    "tags": []
   },
   "outputs": [
    {
     "data": {
      "text/html": [
       "<div>\n",
       "<style scoped>\n",
       "    .dataframe tbody tr th:only-of-type {\n",
       "        vertical-align: middle;\n",
       "    }\n",
       "\n",
       "    .dataframe tbody tr th {\n",
       "        vertical-align: top;\n",
       "    }\n",
       "\n",
       "    .dataframe thead th {\n",
       "        text-align: right;\n",
       "    }\n",
       "</style>\n",
       "<table border=\"1\" class=\"dataframe\">\n",
       "  <thead>\n",
       "    <tr style=\"text-align: right;\">\n",
       "      <th></th>\n",
       "      <th>Comment</th>\n",
       "      <th>Label</th>\n",
       "      <th>Prediction_textcat</th>\n",
       "    </tr>\n",
       "  </thead>\n",
       "  <tbody>\n",
       "    <tr>\n",
       "      <th>7030</th>\n",
       "      <td>好恐怖，[跪了][跪了]造孽…早点离吧，女生越来不想结婚生娃是有理由的</td>\n",
       "      <td>NEUTRAL</td>\n",
       "      <td>NEGATIVE</td>\n",
       "    </tr>\n",
       "    <tr>\n",
       "      <th>2095</th>\n",
       "      <td>爽文</td>\n",
       "      <td>NEUTRAL</td>\n",
       "      <td>NEUTRAL</td>\n",
       "    </tr>\n",
       "    <tr>\n",
       "      <th>7168</th>\n",
       "      <td>持一下，加加人气</td>\n",
       "      <td>NEUTRAL</td>\n",
       "      <td>NEGATIVE</td>\n",
       "    </tr>\n",
       "    <tr>\n",
       "      <th>7969</th>\n",
       "      <td>哈哈  你会看啊[允悲]</td>\n",
       "      <td>NEUTRAL</td>\n",
       "      <td>NEUTRAL</td>\n",
       "    </tr>\n",
       "    <tr>\n",
       "      <th>6320</th>\n",
       "      <td>这里的人就是太能忍了</td>\n",
       "      <td>NEUTRAL</td>\n",
       "      <td>POSITIVE</td>\n",
       "    </tr>\n",
       "  </tbody>\n",
       "</table>\n",
       "</div>"
      ],
      "text/plain": [
       "                                  Comment    Label Prediction_textcat\n",
       "7030  好恐怖，[跪了][跪了]造孽…早点离吧，女生越来不想结婚生娃是有理由的  NEUTRAL           NEGATIVE\n",
       "2095                                   爽文  NEUTRAL            NEUTRAL\n",
       "7168                           持一下，加加人气　　  NEUTRAL           NEGATIVE\n",
       "7969                         哈哈  你会看啊[允悲]  NEUTRAL            NEUTRAL\n",
       "6320                           这里的人就是太能忍了  NEUTRAL           POSITIVE"
      ]
     },
     "execution_count": 30,
     "metadata": {},
     "output_type": "execute_result"
    }
   ],
   "source": [
    "# Getting prediction for each comment by passing it through model.\n",
    "test_df[\"Prediction_textcat\"] = test_df[\"Comment\"].apply(lambda x: \n",
    "                                                 max(nlp(x).cats.items(), \n",
    "                                                     key=operator.itemgetter(1))[0])\n",
    "\n",
    "test_df.head()"
   ]
  },
  {
   "cell_type": "markdown",
   "id": "a4959262-ed01-44a4-8d7b-3fb43bb5464b",
   "metadata": {},
   "source": [
    "Some inconsistencies can already be observed."
   ]
  },
  {
   "cell_type": "markdown",
   "id": "2f3a8e1e-cc99-48cb-99a8-8cc990c936fe",
   "metadata": {},
   "source": [
    "### 3.2 Confusion Matrix and F1-Score"
   ]
  },
  {
   "cell_type": "code",
   "execution_count": 31,
   "id": "bb819cfd-84e4-467e-a6a4-616212965f58",
   "metadata": {
    "tags": []
   },
   "outputs": [
    {
     "data": {
      "image/png": "[encoded data removed]",
      "text/plain": [
       "<Figure size 640x480 with 2 Axes>"
      ]
     },
     "metadata": {},
     "output_type": "display_data"
    }
   ],
   "source": [
    "# Displaying confusion matrix.\n",
    "cm = confusion_matrix(test_df[\"Label\"], test_df[\"Prediction_textcat\"], \n",
    "                labels=labels)\n",
    "ConfusionMatrixDisplay(cm, display_labels=labels).plot(cmap=\"Greens\")\n",
    "plt.title(\"Textcat Confusion Matrix\\n\")\n",
    "plt.savefig(\"./plots/textcat_cm.png\")\n",
    "plt.show()"
   ]
  },
  {
   "cell_type": "code",
   "execution_count": 32,
   "id": "25bfa145-26b5-431f-b8e7-0c125ecace9c",
   "metadata": {
    "tags": []
   },
   "outputs": [
    {
     "name": "stdout",
     "output_type": "stream",
     "text": [
      "Precision: [0.73634204 0.43820225 0.48829431]\n",
      "Recall: [0.65263158 0.46192893 0.55938697]\n",
      "F1-score: [0.69196429 0.44975288 0.52142857]\n"
     ]
    }
   ],
   "source": [
    "# Displaying precision, recall, and F1-Score for each category.\n",
    "p = precision_score(test_df[\"Label\"], test_df[\"Prediction_textcat\"],\n",
    "                    average=None,\n",
    "                    labels=[\"POSITIVE\", \"NEUTRAL\", \"NEGATIVE\"])\n",
    "\n",
    "r = recall_score(test_df[\"Label\"], test_df[\"Prediction_textcat\"],\n",
    "                 average=None,\n",
    "                 labels=[\"POSITIVE\", \"NEUTRAL\", \"NEGATIVE\"])\n",
    "\n",
    "f = f1_score(test_df[\"Label\"], test_df[\"Prediction_textcat\"],\n",
    "             average=None,\n",
    "             labels=[\"POSITIVE\", \"NEUTRAL\", \"NEGATIVE\"])\n",
    "\n",
    "print(\"Precision: \" + str(p))\n",
    "print(\"Recall: \" + str(r))\n",
    "print(\"F1-score: \" + str(f))"
   ]
  },
  {
   "cell_type": "markdown",
   "id": "cb6afdc8-c9b5-4930-8cd7-b248e2cf313c",
   "metadata": {
    "tags": []
   },
   "source": [
    "It seems that the model has most problems with the NEUTRAL class."
   ]
  },
  {
   "cell_type": "code",
   "execution_count": 33,
   "id": "f0306548-b2ff-43c4-ab3b-963d74e873c1",
   "metadata": {
    "tags": []
   },
   "outputs": [
    {
     "data": {
      "text/plain": [
       "0.5543819133913862"
      ]
     },
     "execution_count": 33,
     "metadata": {},
     "output_type": "execute_result"
    }
   ],
   "source": [
    "# Displaying macro average F1-Score.\n",
    "f1_score(test_df[\"Label\"], test_df[\"Prediction_textcat\"], average=\"macro\")"
   ]
  },
  {
   "cell_type": "markdown",
   "id": "98e2ba01-b736-47d6-81bb-dd41ac6d3f44",
   "metadata": {},
   "source": [
    "The average F1-Score across all three classes is not ideal. There might be several reasons to that. They will be covered in the result interpretation part of the dissertation."
   ]
  },
  {
   "cell_type": "markdown",
   "id": "ecd97266-c89a-4838-abd0-533c36b241df",
   "metadata": {},
   "source": [
    "## 4. Translation Sentiment"
   ]
  },
  {
   "cell_type": "markdown",
   "id": "b8d725d3-3fcc-4fbc-94a9-7e2a4f488c38",
   "metadata": {},
   "source": [
    "### 4.1 Translating Comments"
   ]
  },
  {
   "cell_type": "code",
   "execution_count": 34,
   "id": "e4dfda31-5f38-4745-8591-7b32b0d4d451",
   "metadata": {
    "tags": []
   },
   "outputs": [],
   "source": [
    "# Creating GoogleTranslator object.\n",
    "translator = GoogleTranslator(source='zh-CN', target='en')"
   ]
  },
  {
   "cell_type": "code",
   "execution_count": 35,
   "id": "0e659816-5eb9-4a38-acaa-33e28ec76ff6",
   "metadata": {
    "tags": []
   },
   "outputs": [
    {
     "data": {
      "text/html": [
       "<div>\n",
       "<style scoped>\n",
       "    .dataframe tbody tr th:only-of-type {\n",
       "        vertical-align: middle;\n",
       "    }\n",
       "\n",
       "    .dataframe tbody tr th {\n",
       "        vertical-align: top;\n",
       "    }\n",
       "\n",
       "    .dataframe thead th {\n",
       "        text-align: right;\n",
       "    }\n",
       "</style>\n",
       "<table border=\"1\" class=\"dataframe\">\n",
       "  <thead>\n",
       "    <tr style=\"text-align: right;\">\n",
       "      <th></th>\n",
       "      <th>Comment</th>\n",
       "      <th>Label</th>\n",
       "      <th>Prediction_textcat</th>\n",
       "      <th>Translation</th>\n",
       "    </tr>\n",
       "  </thead>\n",
       "  <tbody>\n",
       "    <tr>\n",
       "      <th>7030</th>\n",
       "      <td>好恐怖，[跪了][跪了]造孽…早点离吧，女生越来不想结婚生娃是有理由的</td>\n",
       "      <td>NEUTRAL</td>\n",
       "      <td>NEGATIVE</td>\n",
       "      <td>It’s so scary, [kneel down] [kneel down] What ...</td>\n",
       "    </tr>\n",
       "    <tr>\n",
       "      <th>2095</th>\n",
       "      <td>爽文</td>\n",
       "      <td>NEUTRAL</td>\n",
       "      <td>NEUTRAL</td>\n",
       "      <td>cool article</td>\n",
       "    </tr>\n",
       "    <tr>\n",
       "      <th>7168</th>\n",
       "      <td>持一下，加加人气</td>\n",
       "      <td>NEUTRAL</td>\n",
       "      <td>NEGATIVE</td>\n",
       "      <td>Keep it up and increase your popularity</td>\n",
       "    </tr>\n",
       "    <tr>\n",
       "      <th>7969</th>\n",
       "      <td>哈哈  你会看啊[允悲]</td>\n",
       "      <td>NEUTRAL</td>\n",
       "      <td>NEUTRAL</td>\n",
       "      <td>Haha, you can see it [Yunbei]</td>\n",
       "    </tr>\n",
       "    <tr>\n",
       "      <th>6320</th>\n",
       "      <td>这里的人就是太能忍了</td>\n",
       "      <td>NEUTRAL</td>\n",
       "      <td>POSITIVE</td>\n",
       "      <td>The people here are just too tolerant.</td>\n",
       "    </tr>\n",
       "  </tbody>\n",
       "</table>\n",
       "</div>"
      ],
      "text/plain": [
       "                                  Comment    Label Prediction_textcat  \\\n",
       "7030  好恐怖，[跪了][跪了]造孽…早点离吧，女生越来不想结婚生娃是有理由的  NEUTRAL           NEGATIVE   \n",
       "2095                                   爽文  NEUTRAL            NEUTRAL   \n",
       "7168                           持一下，加加人气　　  NEUTRAL           NEGATIVE   \n",
       "7969                         哈哈  你会看啊[允悲]  NEUTRAL            NEUTRAL   \n",
       "6320                           这里的人就是太能忍了  NEUTRAL           POSITIVE   \n",
       "\n",
       "                                            Translation  \n",
       "7030  It’s so scary, [kneel down] [kneel down] What ...  \n",
       "2095                                       cool article  \n",
       "7168            Keep it up and increase your popularity  \n",
       "7969                      Haha, you can see it [Yunbei]  \n",
       "6320             The people here are just too tolerant.  "
      ]
     },
     "execution_count": 35,
     "metadata": {},
     "output_type": "execute_result"
    }
   ],
   "source": [
    "# Creating column for translated comments.\n",
    "test_df[\"Translation\"] = test_df[\"Comment\"].apply(lambda x: str(translator.translate(x)))\n",
    "test_df.head()"
   ]
  },
  {
   "cell_type": "markdown",
   "id": "272cc2d6-8f44-4411-80c4-86c8f758762f",
   "metadata": {},
   "source": [
    "### 4.2 Applying TextBlob and Getting Predictions"
   ]
  },
  {
   "cell_type": "markdown",
   "id": "4a4d7b06-c1f1-4863-a987-e53ed5d46629",
   "metadata": {},
   "source": [
    "Before using SpaCy's English pipeline, it needs to be downloaded in CLI.\n",
    "\n",
    "The command for downloading the pipeline is:\n",
    "\n",
    "`python -m spacy download en_core_web_sm`"
   ]
  },
  {
   "cell_type": "code",
   "execution_count": 36,
   "id": "16e7308e-158f-499d-a299-b2ee4e20923f",
   "metadata": {
    "tags": []
   },
   "outputs": [
    {
     "data": {
      "text/plain": [
       "['tok2vec', 'tagger', 'parser', 'attribute_ruler', 'lemmatizer', 'ner']"
      ]
     },
     "execution_count": 36,
     "metadata": {},
     "output_type": "execute_result"
    }
   ],
   "source": [
    "# Loading spacy's English pipeline and checking pipeline components.\n",
    "nlp = spacy.load(\"en_core_web_sm\")\n",
    "nlp.pipe_names"
   ]
  },
  {
   "cell_type": "code",
   "execution_count": 37,
   "id": "96056356-5c95-458e-8f9d-83c42dfca19b",
   "metadata": {
    "tags": []
   },
   "outputs": [
    {
     "data": {
      "text/plain": [
       "['tok2vec', 'tagger', 'parser', 'lemmatizer']"
      ]
     },
     "execution_count": 37,
     "metadata": {},
     "output_type": "execute_result"
    }
   ],
   "source": [
    "# ner and attribute_ruler are unnecessary for this project.\n",
    "# Removing ner and attribute_ruler components.\n",
    "nlp.remove_pipe(\"ner\")\n",
    "nlp.remove_pipe(\"attribute_ruler\")\n",
    "nlp.pipe_names"
   ]
  },
  {
   "cell_type": "markdown",
   "id": "04adb874-59f5-48d0-bb03-92eeffb31f91",
   "metadata": {},
   "source": [
    "Before using spacytextblob, the following installations are required in the CLI:\n",
    "\n",
    "`pip install -U textblob`\n",
    "\n",
    "`python -m textblob.download_corpora`\n",
    "\n",
    "`pip install spacytextblob`"
   ]
  },
  {
   "cell_type": "code",
   "execution_count": 38,
   "id": "1b707b70-19b5-4e4b-a5b2-ac5f6d8fb1e7",
   "metadata": {
    "tags": []
   },
   "outputs": [],
   "source": [
    "# Importing spacytextblob.\n",
    "from spacytextblob.spacytextblob import SpacyTextBlob"
   ]
  },
  {
   "cell_type": "code",
   "execution_count": 39,
   "id": "f825d3a3-ee2c-4f42-aced-b85604f80ce1",
   "metadata": {
    "tags": []
   },
   "outputs": [
    {
     "data": {
      "text/plain": [
       "['tok2vec', 'tagger', 'parser', 'lemmatizer', 'spacytextblob']"
      ]
     },
     "execution_count": 39,
     "metadata": {},
     "output_type": "execute_result"
    }
   ],
   "source": [
    "# Adding spasytextblob component to the pipeline.\n",
    "nlp.add_pipe(\"spacytextblob\")\n",
    "nlp.pipe_names"
   ]
  },
  {
   "cell_type": "code",
   "execution_count": 40,
   "id": "732fb9cc-a1f7-44ce-9d9b-c3105071747f",
   "metadata": {
    "tags": []
   },
   "outputs": [
    {
     "name": "stderr",
     "output_type": "stream",
     "text": [
      "/Users/vova_nikon/Documents/Dissertation/thesis_code/lib/python3.11/site-packages/spacy/pipeline/lemmatizer.py:211: UserWarning: [W108] The rule-based lemmatizer did not find POS annotation for one or more tokens. Check that your pipeline includes components that assign token.pos, typically 'tagger'+'attribute_ruler' or 'morphologizer'.\n",
      "  warnings.warn(Warnings.W108)\n"
     ]
    },
    {
     "data": {
      "text/html": [
       "<div>\n",
       "<style scoped>\n",
       "    .dataframe tbody tr th:only-of-type {\n",
       "        vertical-align: middle;\n",
       "    }\n",
       "\n",
       "    .dataframe tbody tr th {\n",
       "        vertical-align: top;\n",
       "    }\n",
       "\n",
       "    .dataframe thead th {\n",
       "        text-align: right;\n",
       "    }\n",
       "</style>\n",
       "<table border=\"1\" class=\"dataframe\">\n",
       "  <thead>\n",
       "    <tr style=\"text-align: right;\">\n",
       "      <th></th>\n",
       "      <th>Comment</th>\n",
       "      <th>Label</th>\n",
       "      <th>Prediction_textcat</th>\n",
       "      <th>Translation</th>\n",
       "      <th>Polarity_Score</th>\n",
       "    </tr>\n",
       "  </thead>\n",
       "  <tbody>\n",
       "    <tr>\n",
       "      <th>7030</th>\n",
       "      <td>好恐怖，[跪了][跪了]造孽…早点离吧，女生越来不想结婚生娃是有理由的</td>\n",
       "      <td>NEUTRAL</td>\n",
       "      <td>NEGATIVE</td>\n",
       "      <td>It’s so scary, [kneel down] [kneel down] What ...</td>\n",
       "      <td>-0.112222</td>\n",
       "    </tr>\n",
       "    <tr>\n",
       "      <th>2095</th>\n",
       "      <td>爽文</td>\n",
       "      <td>NEUTRAL</td>\n",
       "      <td>NEUTRAL</td>\n",
       "      <td>cool article</td>\n",
       "      <td>0.350000</td>\n",
       "    </tr>\n",
       "    <tr>\n",
       "      <th>7168</th>\n",
       "      <td>持一下，加加人气</td>\n",
       "      <td>NEUTRAL</td>\n",
       "      <td>NEGATIVE</td>\n",
       "      <td>Keep it up and increase your popularity</td>\n",
       "      <td>0.000000</td>\n",
       "    </tr>\n",
       "    <tr>\n",
       "      <th>7969</th>\n",
       "      <td>哈哈  你会看啊[允悲]</td>\n",
       "      <td>NEUTRAL</td>\n",
       "      <td>NEUTRAL</td>\n",
       "      <td>Haha, you can see it [Yunbei]</td>\n",
       "      <td>0.200000</td>\n",
       "    </tr>\n",
       "    <tr>\n",
       "      <th>6320</th>\n",
       "      <td>这里的人就是太能忍了</td>\n",
       "      <td>NEUTRAL</td>\n",
       "      <td>POSITIVE</td>\n",
       "      <td>The people here are just too tolerant.</td>\n",
       "      <td>0.000000</td>\n",
       "    </tr>\n",
       "  </tbody>\n",
       "</table>\n",
       "</div>"
      ],
      "text/plain": [
       "                                  Comment    Label Prediction_textcat  \\\n",
       "7030  好恐怖，[跪了][跪了]造孽…早点离吧，女生越来不想结婚生娃是有理由的  NEUTRAL           NEGATIVE   \n",
       "2095                                   爽文  NEUTRAL            NEUTRAL   \n",
       "7168                           持一下，加加人气　　  NEUTRAL           NEGATIVE   \n",
       "7969                         哈哈  你会看啊[允悲]  NEUTRAL            NEUTRAL   \n",
       "6320                           这里的人就是太能忍了  NEUTRAL           POSITIVE   \n",
       "\n",
       "                                            Translation  Polarity_Score  \n",
       "7030  It’s so scary, [kneel down] [kneel down] What ...       -0.112222  \n",
       "2095                                       cool article        0.350000  \n",
       "7168            Keep it up and increase your popularity        0.000000  \n",
       "7969                      Haha, you can see it [Yunbei]        0.200000  \n",
       "6320             The people here are just too tolerant.        0.000000  "
      ]
     },
     "execution_count": 40,
     "metadata": {},
     "output_type": "execute_result"
    }
   ],
   "source": [
    "# Getting polarity score for each translated comment.\n",
    "test_df[\"Polarity_Score\"] = test_df[\"Translation\"].apply(lambda x: nlp(x)._.blob.polarity)\n",
    "test_df.head()"
   ]
  },
  {
   "cell_type": "code",
   "execution_count": 41,
   "id": "593734c6-5ee0-4af6-b38d-49e19c85f13f",
   "metadata": {
    "tags": []
   },
   "outputs": [
    {
     "data": {
      "text/html": [
       "<div>\n",
       "<style scoped>\n",
       "    .dataframe tbody tr th:only-of-type {\n",
       "        vertical-align: middle;\n",
       "    }\n",
       "\n",
       "    .dataframe tbody tr th {\n",
       "        vertical-align: top;\n",
       "    }\n",
       "\n",
       "    .dataframe thead th {\n",
       "        text-align: right;\n",
       "    }\n",
       "</style>\n",
       "<table border=\"1\" class=\"dataframe\">\n",
       "  <thead>\n",
       "    <tr style=\"text-align: right;\">\n",
       "      <th></th>\n",
       "      <th>Comment</th>\n",
       "      <th>Label</th>\n",
       "      <th>Prediction_textcat</th>\n",
       "      <th>Translation</th>\n",
       "      <th>Polarity_Score</th>\n",
       "      <th>Prediction_textblob</th>\n",
       "    </tr>\n",
       "  </thead>\n",
       "  <tbody>\n",
       "    <tr>\n",
       "      <th>7030</th>\n",
       "      <td>好恐怖，[跪了][跪了]造孽…早点离吧，女生越来不想结婚生娃是有理由的</td>\n",
       "      <td>NEUTRAL</td>\n",
       "      <td>NEGATIVE</td>\n",
       "      <td>It’s so scary, [kneel down] [kneel down] What ...</td>\n",
       "      <td>-0.112222</td>\n",
       "      <td>NEGATIVE</td>\n",
       "    </tr>\n",
       "    <tr>\n",
       "      <th>2095</th>\n",
       "      <td>爽文</td>\n",
       "      <td>NEUTRAL</td>\n",
       "      <td>NEUTRAL</td>\n",
       "      <td>cool article</td>\n",
       "      <td>0.350000</td>\n",
       "      <td>POSITIVE</td>\n",
       "    </tr>\n",
       "    <tr>\n",
       "      <th>7168</th>\n",
       "      <td>持一下，加加人气</td>\n",
       "      <td>NEUTRAL</td>\n",
       "      <td>NEGATIVE</td>\n",
       "      <td>Keep it up and increase your popularity</td>\n",
       "      <td>0.000000</td>\n",
       "      <td>NEUTRAL</td>\n",
       "    </tr>\n",
       "    <tr>\n",
       "      <th>7969</th>\n",
       "      <td>哈哈  你会看啊[允悲]</td>\n",
       "      <td>NEUTRAL</td>\n",
       "      <td>NEUTRAL</td>\n",
       "      <td>Haha, you can see it [Yunbei]</td>\n",
       "      <td>0.200000</td>\n",
       "      <td>POSITIVE</td>\n",
       "    </tr>\n",
       "    <tr>\n",
       "      <th>6320</th>\n",
       "      <td>这里的人就是太能忍了</td>\n",
       "      <td>NEUTRAL</td>\n",
       "      <td>POSITIVE</td>\n",
       "      <td>The people here are just too tolerant.</td>\n",
       "      <td>0.000000</td>\n",
       "      <td>NEUTRAL</td>\n",
       "    </tr>\n",
       "  </tbody>\n",
       "</table>\n",
       "</div>"
      ],
      "text/plain": [
       "                                  Comment    Label Prediction_textcat  \\\n",
       "7030  好恐怖，[跪了][跪了]造孽…早点离吧，女生越来不想结婚生娃是有理由的  NEUTRAL           NEGATIVE   \n",
       "2095                                   爽文  NEUTRAL            NEUTRAL   \n",
       "7168                           持一下，加加人气　　  NEUTRAL           NEGATIVE   \n",
       "7969                         哈哈  你会看啊[允悲]  NEUTRAL            NEUTRAL   \n",
       "6320                           这里的人就是太能忍了  NEUTRAL           POSITIVE   \n",
       "\n",
       "                                            Translation  Polarity_Score  \\\n",
       "7030  It’s so scary, [kneel down] [kneel down] What ...       -0.112222   \n",
       "2095                                       cool article        0.350000   \n",
       "7168            Keep it up and increase your popularity        0.000000   \n",
       "7969                      Haha, you can see it [Yunbei]        0.200000   \n",
       "6320             The people here are just too tolerant.        0.000000   \n",
       "\n",
       "     Prediction_textblob  \n",
       "7030            NEGATIVE  \n",
       "2095            POSITIVE  \n",
       "7168             NEUTRAL  \n",
       "7969            POSITIVE  \n",
       "6320             NEUTRAL  "
      ]
     },
     "execution_count": 41,
     "metadata": {},
     "output_type": "execute_result"
    }
   ],
   "source": [
    "# Assigning labels for Polarity_Score.\n",
    "test_df[\"Prediction_textblob\"] = test_df[\"Polarity_Score\"].apply(lambda x: \"POSITIVE\" if x>0\n",
    "                                                                else (\"NEGATIVE\" if x<0\n",
    "                                                                     else \"NEUTRAL\"))\n",
    "test_df.head()"
   ]
  },
  {
   "cell_type": "markdown",
   "id": "66bd9afc-11bd-4b99-9fe7-cff9c7be913b",
   "metadata": {},
   "source": [
    "### 4.3 Confusion Matrix and F1-Score for spacytextblob and Original Labels"
   ]
  },
  {
   "cell_type": "code",
   "execution_count": 42,
   "id": "05583180-6ca7-466c-b656-d888b203267e",
   "metadata": {
    "tags": []
   },
   "outputs": [
    {
     "data": {
      "image/png": "[encoded data removed]",
      "text/plain": [
       "<Figure size 640x480 with 2 Axes>"
      ]
     },
     "metadata": {},
     "output_type": "display_data"
    }
   ],
   "source": [
    "# Displaying confusion matrix.\n",
    "cm = confusion_matrix(test_df[\"Label\"], test_df[\"Prediction_textblob\"], \n",
    "                labels=labels)\n",
    "ConfusionMatrixDisplay(cm, display_labels=labels).plot(cmap=\"Greens\")\n",
    "plt.title(\"Textblob Confusion Matrix\\n\")\n",
    "plt.savefig(\"./plots/textblob_cm.png\")\n",
    "plt.show()"
   ]
  },
  {
   "cell_type": "code",
   "execution_count": 43,
   "id": "adec5fb9-fc5f-40b6-b3a3-39d9aceb328d",
   "metadata": {
    "tags": []
   },
   "outputs": [
    {
     "name": "stdout",
     "output_type": "stream",
     "text": [
      "Precision: [0.56359649 0.33213429 0.41955836]\n",
      "Recall: [0.54105263 0.46869712 0.25478927]\n",
      "F1-score: [0.55209452 0.38877193 0.3170441 ]\n"
     ]
    }
   ],
   "source": [
    "# Displaying precision, recall, and F1-Score for each category.\n",
    "p = precision_score(test_df[\"Label\"], test_df[\"Prediction_textblob\"],\n",
    "                    average=None,\n",
    "                    labels=[\"POSITIVE\", \"NEUTRAL\", \"NEGATIVE\"])\n",
    "\n",
    "r = recall_score(test_df[\"Label\"], test_df[\"Prediction_textblob\"],\n",
    "                 average=None,\n",
    "                 labels=[\"POSITIVE\", \"NEUTRAL\", \"NEGATIVE\"])\n",
    "\n",
    "f = f1_score(test_df[\"Label\"], test_df[\"Prediction_textblob\"],\n",
    "             average=None,\n",
    "             labels=[\"POSITIVE\", \"NEUTRAL\", \"NEGATIVE\"])\n",
    "\n",
    "print(\"Precision: \" + str(p))\n",
    "print(\"Recall: \" + str(r))\n",
    "print(\"F1-score: \" + str(f))"
   ]
  },
  {
   "cell_type": "markdown",
   "id": "b04602c2-4ca9-4c86-af65-8ff0648a630d",
   "metadata": {
    "tags": []
   },
   "source": [
    "It seems that the model has most problems with the NEGATIVE class."
   ]
  },
  {
   "cell_type": "code",
   "execution_count": 44,
   "id": "01117da2-5208-4aaf-9ad2-c8a2c67ea1c5",
   "metadata": {
    "tags": []
   },
   "outputs": [
    {
     "data": {
      "text/plain": [
       "0.4193035173210283"
      ]
     },
     "execution_count": 44,
     "metadata": {},
     "output_type": "execute_result"
    }
   ],
   "source": [
    "# Displaying macro average F1-Score.\n",
    "f1_score(test_df[\"Label\"], test_df[\"Prediction_textblob\"], average=\"macro\")"
   ]
  },
  {
   "cell_type": "markdown",
   "id": "38a605f6-feff-447f-b327-ea5c5ea0f6fb",
   "metadata": {},
   "source": [
    "Textblob is struggling to accurately predict the sentiment of the translated comments."
   ]
  },
  {
   "cell_type": "markdown",
   "id": "7d4446cc-0764-4de9-a97a-5df1ff79bf5c",
   "metadata": {},
   "source": [
    "### 4.4 Confusion Matrix and F1-Score for spacytextblob and textcat"
   ]
  },
  {
   "cell_type": "code",
   "execution_count": 45,
   "id": "ee039f3c-5124-4999-a213-d934670e1c44",
   "metadata": {
    "tags": []
   },
   "outputs": [
    {
     "data": {
      "image/png": "[encoded data removed]",
      "text/plain": [
       "<Figure size 640x480 with 2 Axes>"
      ]
     },
     "metadata": {},
     "output_type": "display_data"
    }
   ],
   "source": [
    "# Displaying confusion matrix.\n",
    "cm = confusion_matrix(test_df[\"Prediction_textcat\"], test_df[\"Prediction_textblob\"], \n",
    "                labels=labels)\n",
    "ConfusionMatrixDisplay(cm, display_labels=labels).plot(cmap=\"Greens\")\n",
    "plt.title(\"TextCategorizer X TextBlob Confusion Matrix\\n\")\n",
    "plt.xlabel(\"textblob label\")\n",
    "plt.ylabel(\"textcat label\")\n",
    "plt.savefig(\"./plots/textcat_textblob_cm.png\")\n",
    "plt.show()"
   ]
  },
  {
   "cell_type": "code",
   "execution_count": 46,
   "id": "36b200a1-b731-4848-a16e-f3519ac35ba2",
   "metadata": {
    "tags": []
   },
   "outputs": [
    {
     "name": "stdout",
     "output_type": "stream",
     "text": [
      "Precision: [0.55482456 0.41127098 0.54574132]\n",
      "Recall: [0.60095012 0.5505618  0.28929766]\n",
      "F1-score: [0.57696693 0.47083047 0.37814208]\n"
     ]
    }
   ],
   "source": [
    "# Displaying precision, recall, and F1-Score for each category.\n",
    "p = precision_score(test_df[\"Prediction_textcat\"], test_df[\"Prediction_textblob\"],\n",
    "                    average=None,\n",
    "                    labels=[\"POSITIVE\", \"NEUTRAL\", \"NEGATIVE\"])\n",
    "\n",
    "r = recall_score(test_df[\"Prediction_textcat\"], test_df[\"Prediction_textblob\"],\n",
    "                 average=None,\n",
    "                 labels=[\"POSITIVE\", \"NEUTRAL\", \"NEGATIVE\"])\n",
    "\n",
    "f = f1_score(test_df[\"Prediction_textcat\"], test_df[\"Prediction_textblob\"],\n",
    "             average=None,\n",
    "             labels=[\"POSITIVE\", \"NEUTRAL\", \"NEGATIVE\"])\n",
    "\n",
    "print(\"Precision: \" + str(p))\n",
    "print(\"Recall: \" + str(r))\n",
    "print(\"F1-score: \" + str(f))"
   ]
  },
  {
   "cell_type": "code",
   "execution_count": 47,
   "id": "b274ed09-1020-4286-8567-6f437aec6f85",
   "metadata": {
    "tags": []
   },
   "outputs": [
    {
     "data": {
      "text/plain": [
       "0.47531316093459086"
      ]
     },
     "execution_count": 47,
     "metadata": {},
     "output_type": "execute_result"
    }
   ],
   "source": [
    "# Displaying macro average F1-Score.\n",
    "f1_score(test_df[\"Prediction_textcat\"], test_df[\"Prediction_textblob\"], average=\"macro\")"
   ]
  },
  {
   "cell_type": "markdown",
   "id": "4ca5e81b-2478-4f4e-ac6a-bb48beb3cdd5",
   "metadata": {},
   "source": [
    "The F1-Score has improved compared to the original labels, although it is still quite poor."
   ]
  },
  {
   "cell_type": "code",
   "execution_count": null,
   "id": "57c153a0-5c45-473a-9c31-303cca5764a1",
   "metadata": {},
   "outputs": [],
   "source": []
  }
 ],
 "metadata": {
  "kernelspec": {
   "display_name": "thesis_code",
   "language": "python",
   "name": "thesis_code"
  },
  "language_info": {
   "codemirror_mode": {
    "name": "ipython",
    "version": 3
   },
   "file_extension": ".py",
   "mimetype": "text/x-python",
   "name": "python",
   "nbconvert_exporter": "python",
   "pygments_lexer": "ipython3",
   "version": "3.11.8"
  }
 },
 "nbformat": 4,
 "nbformat_minor": 5
}
